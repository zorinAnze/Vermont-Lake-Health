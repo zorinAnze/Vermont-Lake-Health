{
 "cells": [
  {
   "cell_type": "markdown",
   "id": "a73e8185",
   "metadata": {},
   "source": [
    "### Project Dashboard developed in Bokeh\n",
    "\n",
    "run in terminal from root directory<p>\n",
    "\n",
    "```\n",
    "bokeh serve --show geo_maping_dashboard.ipynb\n",
    "```"
   ]
  },
  {
   "cell_type": "code",
   "execution_count": null,
   "id": "40305a0a",
   "metadata": {},
   "outputs": [],
   "source": [
    "import json\n",
    "from bokeh.io import show, output_file, output_notebook\n",
    "from bokeh.models import (CDSView, ColorBar, ColumnDataSource,\n",
    "                          CustomJS, CustomJSFilter, \n",
    "                          GeoJSONDataSource, HoverTool,\n",
    "                          LinearColorMapper, Slider, Select, RadioButtonGroup, Column, Text, LinearAxis, Grid)\n",
    "from bokeh.layouts import column, row, widgetbox\n",
    "from bokeh.palettes import brewer\n",
    "from bokeh.plotting import figure\n",
    "\n",
    "from bokeh.io import curdoc, output_notebook\n",
    "from bokeh.models import Slider, HoverTool\n",
    "from bokeh.layouts import widgetbox, row, column\n",
    "\n",
    "import geopandas as gpd\n",
    "import pandas as pd\n",
    "import numpy as np\n",
    "import os"
   ]
  },
  {
   "cell_type": "code",
   "execution_count": 5,
   "id": "71a5060a",
   "metadata": {},
   "outputs": [],
   "source": [
    "# loading chemichal data dataset \n",
    "chem_data = pd.read_csv(r'assets/ChemDataForJeffOlson.csv', parse_dates=['VisitDate'])\n",
    "chem_data['year'] = chem_data.VisitDate.dt.year\n",
    "\n",
    "seasons = {\n",
    "    '0':'winter',\n",
    "    '1':'spring',\n",
    "    '2':'summer',\n",
    "    '3':'fall'\n",
    "}\n",
    "\n",
    "chem_data['season'] =  (chem_data.VisitDate.dt.month - 1) //3\n",
    "chem_data['season'] = chem_data.season.apply(lambda x: seasons[str(x)])\n",
    "chem_data['date'] = chem_data['VisitDate'].apply(lambda x:x.strftime(\"%Y-%m-01\"))"
   ]
  },
  {
   "cell_type": "code",
   "execution_count": 6,
   "id": "4bbe25fb",
   "metadata": {},
   "outputs": [],
   "source": [
    "# set treshold for number of measurments\n",
    "TRESHOLD = 100\n",
    "\n",
    "def get_frequent(df, TRESHOLD):\n",
    "    counts = df.groupby(['CharacteristicID'])['Result'].count()\n",
    "    mask = counts[counts.values <= TRESHOLD].index\n",
    "    df = df.where(~df.isin(mask))\n",
    "    return df\n",
    "              \n",
    "data = get_frequent(chem_data, TRESHOLD)"
   ]
  },
  {
   "cell_type": "code",
   "execution_count": 7,
   "id": "91781e83",
   "metadata": {},
   "outputs": [],
   "source": [
    "df = data.groupby(['LakeID', 'year', 'CharacteristicID'])['Result'].agg(np.mean)\n",
    "df = df.reset_index()"
   ]
  },
  {
   "cell_type": "code",
   "execution_count": 11,
   "id": "a1a8441e",
   "metadata": {},
   "outputs": [],
   "source": [
    "gdf = gpd.read_file(r'assets/Lake_Inventory_Watersheds.geojson')"
   ]
  },
  {
   "cell_type": "code",
   "execution_count": 15,
   "id": "75850e81",
   "metadata": {},
   "outputs": [],
   "source": [
    "def json_data(selectedYear,CharacteristicID):\n",
    "    \n",
    "    yr = selectedYear\n",
    "    df_yr = df[(df['year'] == yr) & (df['CharacteristicID'] == CharacteristicID)]\n",
    "    \n",
    "    merged = gdf.merge(df_yr, left_on='LAKEID', right_on='LakeID', how = 'left')\n",
    "    merged.fillna('No data', inplace = True)\n",
    "    merged_json = json.loads(merged.to_json())\n",
    "    json_data = json.dumps(merged_json)\n",
    "    return json_data"
   ]
  },
  {
   "cell_type": "code",
   "execution_count": 36,
   "id": "ddebb1fa",
   "metadata": {},
   "outputs": [
    {
     "name": "stderr",
     "output_type": "stream",
     "text": [
      "BokehDeprecationWarning: 'WidgetBox' is deprecated and will be removed in Bokeh 3.0, use 'bokeh.models.Column' instead\n"
     ]
    }
   ],
   "source": [
    "#Input GeoJSON source that contains features for plotting.\n",
    "geosource=GeoJSONDataSource(geojson=json_data(1980, \"TP\"))\n",
    "\n",
    "\n",
    "#Define a sequential multi-hue color palette.\n",
    "palette = brewer[\"YlGnBu\"][8]\n",
    "\n",
    "#Reverse color order so that dark blue is highest obesity.\n",
    "palette = palette[::-1]\n",
    "\n",
    "#Instantiate LinearColorMapper that linearly maps numbers in a range, into a sequence of colors. Input nan_color.\n",
    "color_mapper = LinearColorMapper(palette = palette, low = 0, high = 40, nan_color = \"#d9d9d9\")\n",
    "\n",
    "#Create color bar.\n",
    "color_bar = ColorBar(color_mapper=color_mapper, label_standoff=8,width = 20, height = 550,\n",
    "                    border_line_color=None,location = (0,0), orientation = \"vertical\")\n",
    "\n",
    "#Add hover tool\n",
    "hover = HoverTool(tooltips = [ (\"Lake\",\"@LakeID\"),(\"Result\", \"@Result\")])\n",
    "\n",
    "\n",
    "\n",
    "#Create figure object.\n",
    "p = figure(title = \"Vermont Lay monitoring programm\",\n",
    "           plot_height = 600,\n",
    "           plot_width = 500,\n",
    "           toolbar_location = None,\n",
    "           tools = [hover],\n",
    "           x_axis_location=None,\n",
    "           y_axis_location=None,\n",
    "          )\n",
    "\n",
    "\n",
    "p.xgrid.grid_line_color = None\n",
    "p.ygrid.grid_line_color = None\n",
    "\n",
    "# Add patch renderer to figure.\n",
    "p.patches(\"xs\",\"ys\",\n",
    "          source = geosource,\n",
    "          fill_color = {\"field\" :\"Result\",\n",
    "                        \"transform\" : color_mapper},\n",
    "          line_color = \"black\",\n",
    "          line_width = 0.25,\n",
    "          fill_alpha = 1)\n",
    "\n",
    "\n",
    "\n",
    "# Define the callback function: update_plot\n",
    "def update_plot(attr, old, new):\n",
    "    \n",
    "    yr = slider.value\n",
    "    CharacteristicID = parameter_select.value\n",
    "    \n",
    "    new_data = json_data(yr, CharacteristicID)\n",
    "    \n",
    "    geosource.geojson = new_data\n",
    "    p.title.text = \"Vermont Lay monitoring programm, {}\\n Parammeter: {}\".format(yr,CharacteristicID)\n",
    "\n",
    "    \n",
    "    \n",
    "# Make a slider object: slider \n",
    "slider = Slider(title = \"Year\",start = 1980, end = 2021, step = 1, value = 1980, width=500)\n",
    "slider.on_change(\"value\",update_plot)\n",
    "\n",
    "# Make a drop down object: selector \n",
    "LABELS = list(df.CharacteristicID.unique())\n",
    "parameter_select = Select(value=\"TP\", options=LABELS)\n",
    "parameter_select.on_change(\"value\", update_plot)\n",
    "    \n",
    "    \n",
    "\n",
    "\n",
    "#Specify layout\n",
    "p.add_layout(color_bar, \"right\")\n",
    "\n",
    "\n",
    "# Make a column layout of widgetbox(slider) and plot, and add it to the current document\n",
    "layout = column(p,widgetbox(slider, parameter_select))\n",
    "curdoc().add_root(layout)\n",
    "\n"
   ]
  },
  {
   "cell_type": "code",
   "execution_count": null,
   "id": "ac4638de",
   "metadata": {},
   "outputs": [],
   "source": []
  }
 ],
 "metadata": {
  "kernelspec": {
   "display_name": "Python 3 (ipykernel)",
   "language": "python",
   "name": "python3"
  },
  "language_info": {
   "codemirror_mode": {
    "name": "ipython",
    "version": 3
   },
   "file_extension": ".py",
   "mimetype": "text/x-python",
   "name": "python",
   "nbconvert_exporter": "python",
   "pygments_lexer": "ipython3",
   "version": "3.8.10"
  }
 },
 "nbformat": 4,
 "nbformat_minor": 5
}
