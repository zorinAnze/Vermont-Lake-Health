{
 "cells": [
  {
   "cell_type": "markdown",
   "id": "e3edc748",
   "metadata": {},
   "source": [
    "# Vermont Lay mnitoring program overview  "
   ]
  },
  {
   "cell_type": "code",
   "execution_count": 2,
   "id": "588e38e2",
   "metadata": {},
   "outputs": [
    {
     "data": {
      "text/plain": [
       "DataTransformerRegistry.enable('default')"
      ]
     },
     "execution_count": 2,
     "metadata": {},
     "output_type": "execute_result"
    }
   ],
   "source": [
    "%load_ext watermark\n",
    "\n",
    "import watermark\n",
    "import matplotlib\n",
    "import numpy as np\n",
    "import pandas as pd\n",
    "\n",
    "import pyproj\n",
    "import json\n",
    "from urllib.request import urlretrieve\n",
    "import os\n",
    "import altair as alt\n",
    "import ipywidgets as widgets\n",
    "\n",
    "import plotly.express as px\n",
    "\n",
    "alt.data_transformers.disable_max_rows()"
   ]
  },
  {
   "cell_type": "code",
   "execution_count": 3,
   "id": "39e81973",
   "metadata": {},
   "outputs": [
    {
     "name": "stdout",
     "output_type": "stream",
     "text": [
      "Author: ZORIN_ANŽE\n",
      "\n",
      "geopandas: 0.10.2\n",
      "pandas   : 1.3.5\n",
      "numpy    : 1.21.5\n",
      "plotly   : 5.5.0\n",
      "pyproj   : 3.3.0\n",
      "\n"
     ]
    }
   ],
   "source": [
    "%watermark -p geopandas,pandas,numpy,plotly,pyproj -a ZORIN_ANŽE -d"
   ]
  },
  {
   "cell_type": "markdown",
   "id": "a266cc03",
   "metadata": {},
   "source": [
    "We first want to explore the statisctics of measurments. Since this is a lay monitoring programm dependant on good will of the participants we expect a wide range of measurments dependant on lake and year. "
   ]
  },
  {
   "cell_type": "code",
   "execution_count": 4,
   "id": "ba4bb2f1",
   "metadata": {},
   "outputs": [],
   "source": [
    "# loading chemichal data dataset \n",
    "chem_data = pd.read_csv(r'assets/ChemDataForJeffOlson.csv', parse_dates=['VisitDate'])"
   ]
  },
  {
   "cell_type": "markdown",
   "id": "6718e81d",
   "metadata": {},
   "source": [
    "We will add 'year' and 'season' columns for easier representation os data and counting of measurments."
   ]
  },
  {
   "cell_type": "code",
   "execution_count": 5,
   "id": "5091e73e",
   "metadata": {},
   "outputs": [],
   "source": [
    "chem_data['year'] = chem_data.VisitDate.dt.year\n",
    "\n",
    "seasons = {\n",
    "    '0':'winter',\n",
    "    '1':'spring',\n",
    "    '2':'summer',\n",
    "    '3':'fall'\n",
    "}\n",
    "\n",
    "chem_data['season'] =  (chem_data.VisitDate.dt.month - 1) //3\n",
    "chem_data['season'] = chem_data.season.apply(lambda x: seasons[str(x)])"
   ]
  },
  {
   "cell_type": "code",
   "execution_count": null,
   "id": "207dffdd",
   "metadata": {},
   "outputs": [],
   "source": [
    "len(list(chem_data.CharacteristicID.unique()))"
   ]
  },
  {
   "cell_type": "code",
   "execution_count": null,
   "id": "2115edea",
   "metadata": {},
   "outputs": [],
   "source": [
    "chem_data['date'] = chem_data['VisitDate'].apply(lambda x:x.strftime(\"%Y-%m-01\"))"
   ]
  },
  {
   "cell_type": "code",
   "execution_count": null,
   "id": "7a385eda",
   "metadata": {},
   "outputs": [],
   "source": [
    "print(\"There are \", len(list(chem_data.LakeID.unique())), \"lakes included in the Lay monitoring program.\")"
   ]
  },
  {
   "cell_type": "code",
   "execution_count": null,
   "id": "e25e6373",
   "metadata": {},
   "outputs": [],
   "source": [
    "bar = alt.Chart(chem_data).mark_bar(strokeWidth=0.5).encode(\n",
    "        x=alt.X('year:O'),\n",
    "        y=alt.Y(\n",
    "            'distinct(LakeID)',\n",
    "            axis=None)\n",
    ").properties(width=600, height=200)\n",
    "\n",
    "txt = bar.mark_text(\n",
    "            align='center',\n",
    "            baseline='top',\n",
    "            fontSize=8, \n",
    "            dy=-10\n",
    "        ).encode(\n",
    "            text='distinct(LakeID)')\n",
    "\n",
    "alt.layer(bar+txt).configure_view(strokeWidth=0)"
   ]
  },
  {
   "cell_type": "code",
   "execution_count": null,
   "id": "846f649b",
   "metadata": {},
   "outputs": [],
   "source": [
    "from IPython.display import Markdown as md\n",
    "mean_lakes = int(np.mean(chem_data.groupby('year')['LakeID'].nunique().values))\n",
    "num_charascteristics = len(list(chem_data.CharacteristicID.unique()))\n",
    "\n",
    "md(\"Number of lakes actualy measured in any given year is quite smaller. On average {} are tested each year. Measurments are performed on {} diferent charascteristics\".format(mean_lakes, num_charascteristics))"
   ]
  },
  {
   "cell_type": "markdown",
   "id": "915bc38c",
   "metadata": {},
   "source": [
    "Let us count the number of measurments for any given parameter across all years."
   ]
  },
  {
   "cell_type": "code",
   "execution_count": null,
   "id": "54bd7e37",
   "metadata": {},
   "outputs": [],
   "source": [
    "counts_all = chem_data.groupby(['CharacteristicID'])['Result'].count()"
   ]
  },
  {
   "cell_type": "code",
   "execution_count": null,
   "id": "d0415082",
   "metadata": {},
   "outputs": [],
   "source": [
    "counts_all.sort_values()"
   ]
  },
  {
   "cell_type": "markdown",
   "id": "4ead8bc7",
   "metadata": {},
   "source": [
    "What are the CharacteristicID that have the low number of measurments. Lets look at those with < 100 mesurments."
   ]
  },
  {
   "cell_type": "code",
   "execution_count": null,
   "id": "da5937ae",
   "metadata": {},
   "outputs": [],
   "source": [
    "counts_all[counts_all.values <= 100].index"
   ]
  },
  {
   "cell_type": "markdown",
   "id": "e41439b5",
   "metadata": {},
   "source": [
    "It looks like those are the heavy elemnts which are not easily tested by lay people and Ecoli, NPOC and SechiViewTube. Lets throw out those measurments."
   ]
  },
  {
   "cell_type": "code",
   "execution_count": null,
   "id": "eb72818e",
   "metadata": {},
   "outputs": [],
   "source": [
    "# set treshold for number of measurments\n",
    "TRESHOLD = 100\n",
    "\n",
    "def get_frequent(df, TRESHOLD):\n",
    "    counts = df.groupby(['CharacteristicID'])['Result'].count()\n",
    "    mask = counts[counts.values <= TRESHOLD].index\n",
    "    df = df.where(~df.isin(mask))\n",
    "    return df\n",
    "              \n",
    "data = get_frequent(chem_data, TRESHOLD)"
   ]
  },
  {
   "cell_type": "markdown",
   "id": "a57d067b",
   "metadata": {},
   "source": [
    "Next we are interested in distribution of measurments across lakes. Which lakes are the most intensly monitored and which are the least monitored. Let us look at the count of records for all "
   ]
  },
  {
   "cell_type": "code",
   "execution_count": null,
   "id": "7a48fec8",
   "metadata": {},
   "outputs": [],
   "source": [
    "line = alt.Chart(data).mark_line(strokeWidth=0.5, color='black').encode(\n",
    "        x=alt.X('year:O', axis=alt.Axis(title=None)),\n",
    "        y=alt.Y('count()', axis=alt.Axis(title=None, grid=False)),\n",
    "        ).properties(width=600, height=100)\n",
    "\n",
    "bar = alt.Chart(data).mark_bar(strokeWidth=0.5).encode(\n",
    "        x=alt.X('year:O', axis=None),\n",
    "        y=alt.Y('count()', axis=alt.Axis(title=None, grid=False)),\n",
    "        color=alt.Color('LakeID:N', legend=None),\n",
    "        tooltip=alt.Tooltip(['LakeID', 'count()']),\n",
    "        order=alt.Order(\n",
    "            'count()',\n",
    "            sort='ascending')\n",
    "        ).interactive().properties(width=600, height=200)\n",
    "\n",
    "text = line.mark_text(\n",
    "            align='center',\n",
    "            baseline='top',\n",
    "            fontSize=8, \n",
    "            dy=-10\n",
    "        ).encode(\n",
    "            text='distinct(LakeID)')\n",
    "\n",
    "bars = alt.layer(bar,text)"
   ]
  },
  {
   "cell_type": "code",
   "execution_count": null,
   "id": "fe628e38",
   "metadata": {},
   "outputs": [],
   "source": [
    "alt.vconcat(bars, line).configure_view(\n",
    "    strokeWidth=0\n",
    ")"
   ]
  },
  {
   "cell_type": "code",
   "execution_count": 6,
   "id": "4e1294f3",
   "metadata": {},
   "outputs": [],
   "source": [
    "# top ten most measured lakes by year\n",
    "top = chem_data.groupby(['LakeID', 'year'])['CharacteristicID'].count()\n",
    "top = top.reset_index()"
   ]
  },
  {
   "cell_type": "code",
   "execution_count": 22,
   "id": "198b0c16",
   "metadata": {},
   "outputs": [],
   "source": [
    "top = top.sort_values(by=['year', 'CharacteristicID'], ascending=False).groupby('year').head(5)"
   ]
  },
  {
   "cell_type": "code",
   "execution_count": 51,
   "id": "0674647e",
   "metadata": {},
   "outputs": [],
   "source": [
    "bottom = chem_data.groupby(['LakeID', 'year'])['CharacteristicID'].count()\n",
    "bottom = bottom.reset_index()\n",
    "bottom = bottom.sort_values(by=['year', 'CharacteristicID'], ascending=False).groupby('year').tail(5)"
   ]
  },
  {
   "cell_type": "code",
   "execution_count": 46,
   "id": "ff46bfa7",
   "metadata": {},
   "outputs": [
    {
     "data": {
      "text/html": [
       "\n",
       "<div id=\"altair-viz-7408e27b15de4c6c87646717e6d43a35\"></div>\n",
       "<script type=\"text/javascript\">\n",
       "  (function(spec, embedOpt){\n",
       "    let outputDiv = document.currentScript.previousElementSibling;\n",
       "    if (outputDiv.id !== \"altair-viz-7408e27b15de4c6c87646717e6d43a35\") {\n",
       "      outputDiv = document.getElementById(\"altair-viz-7408e27b15de4c6c87646717e6d43a35\");\n",
       "    }\n",
       "    const paths = {\n",
       "      \"vega\": \"https://cdn.jsdelivr.net/npm//vega@5?noext\",\n",
       "      \"vega-lib\": \"https://cdn.jsdelivr.net/npm//vega-lib?noext\",\n",
       "      \"vega-lite\": \"https://cdn.jsdelivr.net/npm//vega-lite@4.8.1?noext\",\n",
       "      \"vega-embed\": \"https://cdn.jsdelivr.net/npm//vega-embed@6?noext\",\n",
       "    };\n",
       "\n",
       "    function loadScript(lib) {\n",
       "      return new Promise(function(resolve, reject) {\n",
       "        var s = document.createElement('script');\n",
       "        s.src = paths[lib];\n",
       "        s.async = true;\n",
       "        s.onload = () => resolve(paths[lib]);\n",
       "        s.onerror = () => reject(`Error loading script: ${paths[lib]}`);\n",
       "        document.getElementsByTagName(\"head\")[0].appendChild(s);\n",
       "      });\n",
       "    }\n",
       "\n",
       "    function showError(err) {\n",
       "      outputDiv.innerHTML = `<div class=\"error\" style=\"color:red;\">${err}</div>`;\n",
       "      throw err;\n",
       "    }\n",
       "\n",
       "    function displayChart(vegaEmbed) {\n",
       "      vegaEmbed(outputDiv, spec, embedOpt)\n",
       "        .catch(err => showError(`Javascript Error: ${err.message}<br>This usually means there's a typo in your chart specification. See the javascript console for the full traceback.`));\n",
       "    }\n",
       "\n",
       "    if(typeof define === \"function\" && define.amd) {\n",
       "      requirejs.config({paths});\n",
       "      require([\"vega-embed\"], displayChart, err => showError(`Error loading script: ${err.message}`));\n",
       "    } else if (typeof vegaEmbed === \"function\") {\n",
       "      displayChart(vegaEmbed);\n",
       "    } else {\n",
       "      loadScript(\"vega\")\n",
       "        .then(() => loadScript(\"vega-lite\"))\n",
       "        .then(() => loadScript(\"vega-embed\"))\n",
       "        .catch(showError)\n",
       "        .then(() => displayChart(vegaEmbed));\n",
       "    }\n",
       "  })({\"config\": {\"view\": {\"continuousWidth\": 400, \"continuousHeight\": 300, \"strokeWidth\": 0}}, \"data\": {\"name\": \"data-e0857322b821c78b03e205d95a2e012a\"}, \"facet\": {\"type\": \"ordinal\", \"field\": \"year\"}, \"spec\": {\"mark\": \"bar\", \"encoding\": {\"x\": {\"type\": \"nominal\", \"field\": \"LakeID\", \"sort\": \"-y\", \"title\": null}, \"y\": {\"type\": \"quantitative\", \"axis\": {\"grid\": false}, \"field\": \"CharacteristicID\", \"title\": null}}, \"height\": 100, \"width\": 100}, \"columns\": 5, \"resolve\": {\"scale\": {\"x\": \"independent\", \"y\": \"independent\"}}, \"$schema\": \"https://vega.github.io/schema/vega-lite/v4.8.1.json\", \"datasets\": {\"data-e0857322b821c78b03e205d95a2e012a\": [{\"LakeID\": \"WATERBURY\", \"year\": 2021, \"CharacteristicID\": 470}, {\"LakeID\": \"TICKLENAKED\", \"year\": 2021, \"CharacteristicID\": 359}, {\"LakeID\": \"WILLOUGHBY\", \"year\": 2021, \"CharacteristicID\": 155}, {\"LakeID\": \"HARVEYS\", \"year\": 2021, \"CharacteristicID\": 150}, {\"LakeID\": \"ECHO (CHARTN)\", \"year\": 2021, \"CharacteristicID\": 125}, {\"LakeID\": \"CARMI\", \"year\": 2020, \"CharacteristicID\": 1703}, {\"LakeID\": \"HAYSTACK\", \"year\": 2020, \"CharacteristicID\": 227}, {\"LakeID\": \"SUNSET (MARLBR)\", \"year\": 2020, \"CharacteristicID\": 222}, {\"LakeID\": \"BEAVER (HOLLND)\", \"year\": 2020, \"CharacteristicID\": 207}, {\"LakeID\": \"BOURN\", \"year\": 2020, \"CharacteristicID\": 198}, {\"LakeID\": \"CARMI\", \"year\": 2019, \"CharacteristicID\": 2726}, {\"LakeID\": \"TICKLENAKED\", \"year\": 2019, \"CharacteristicID\": 745}, {\"LakeID\": \"WILLOUGHBY\", \"year\": 2019, \"CharacteristicID\": 504}, {\"LakeID\": \"CASPIAN\", \"year\": 2019, \"CharacteristicID\": 472}, {\"LakeID\": \"JOES (DANVLL)\", \"year\": 2019, \"CharacteristicID\": 345}, {\"LakeID\": \"CARMI\", \"year\": 2018, \"CharacteristicID\": 1375}, {\"LakeID\": \"TICKLENAKED\", \"year\": 2018, \"CharacteristicID\": 771}, {\"LakeID\": \"MAIDSTONE\", \"year\": 2018, \"CharacteristicID\": 616}, {\"LakeID\": \"WILLOUGHBY\", \"year\": 2018, \"CharacteristicID\": 582}, {\"LakeID\": \"SHADOW (GLOVER)\", \"year\": 2018, \"CharacteristicID\": 521}, {\"LakeID\": \"CARMI\", \"year\": 2017, \"CharacteristicID\": 1119}, {\"LakeID\": \"TICKLENAKED\", \"year\": 2017, \"CharacteristicID\": 926}, {\"LakeID\": \"LITTLE AVERILL\", \"year\": 2017, \"CharacteristicID\": 752}, {\"LakeID\": \"WILLOUGHBY\", \"year\": 2017, \"CharacteristicID\": 450}, {\"LakeID\": \"SUNSET (BENSON)\", \"year\": 2017, \"CharacteristicID\": 413}, {\"LakeID\": \"CARMI\", \"year\": 2016, \"CharacteristicID\": 839}, {\"LakeID\": \"TICKLENAKED\", \"year\": 2016, \"CharacteristicID\": 656}, {\"LakeID\": \"DUNMORE\", \"year\": 2016, \"CharacteristicID\": 216}, {\"LakeID\": \"PEACHAM\", \"year\": 2016, \"CharacteristicID\": 152}, {\"LakeID\": \"HOWE\", \"year\": 2016, \"CharacteristicID\": 146}, {\"LakeID\": \"LITTLE AVERILL\", \"year\": 2015, \"CharacteristicID\": 216}, {\"LakeID\": \"LONG (WESTMR)\", \"year\": 2015, \"CharacteristicID\": 207}, {\"LakeID\": \"VAIL\", \"year\": 2015, \"CharacteristicID\": 202}, {\"LakeID\": \"TICKLENAKED\", \"year\": 2015, \"CharacteristicID\": 173}, {\"LakeID\": \"MOREY\", \"year\": 2015, \"CharacteristicID\": 151}, {\"LakeID\": \"TICKLENAKED\", \"year\": 2014, \"CharacteristicID\": 1029}, {\"LakeID\": \"ROUND (SHEFLD)\", \"year\": 2014, \"CharacteristicID\": 294}, {\"LakeID\": \"RESCUE\", \"year\": 2014, \"CharacteristicID\": 175}, {\"LakeID\": \"LITTLE AVERILL\", \"year\": 2014, \"CharacteristicID\": 174}, {\"LakeID\": \"SHADOW (GLOVER)\", \"year\": 2014, \"CharacteristicID\": 170}, {\"LakeID\": \"SEYMOUR\", \"year\": 2013, \"CharacteristicID\": 576}, {\"LakeID\": \"BEAVER (HOLLND)\", \"year\": 2013, \"CharacteristicID\": 241}, {\"LakeID\": \"CRYSTAL (BARTON)\", \"year\": 2013, \"CharacteristicID\": 220}, {\"LakeID\": \"LITTLE AVERILL\", \"year\": 2013, \"CharacteristicID\": 217}, {\"LakeID\": \"INMAN\", \"year\": 2013, \"CharacteristicID\": 194}, {\"LakeID\": \"MILES\", \"year\": 2012, \"CharacteristicID\": 342}, {\"LakeID\": \"LITTLE AVERILL\", \"year\": 2012, \"CharacteristicID\": 291}, {\"LakeID\": \"WOODWARD\", \"year\": 2012, \"CharacteristicID\": 224}, {\"LakeID\": \"SOUTH BAY\", \"year\": 2012, \"CharacteristicID\": 206}, {\"LakeID\": \"ROOD\", \"year\": 2012, \"CharacteristicID\": 195}, {\"LakeID\": \"SOUTH BAY\", \"year\": 2011, \"CharacteristicID\": 475}, {\"LakeID\": \"MAIDSTONE\", \"year\": 2011, \"CharacteristicID\": 224}, {\"LakeID\": \"HIGH (SUDBRY)\", \"year\": 2011, \"CharacteristicID\": 204}, {\"LakeID\": \"NICHOLS\", \"year\": 2011, \"CharacteristicID\": 178}, {\"LakeID\": \"BALD HILL\", \"year\": 2011, \"CharacteristicID\": 177}, {\"LakeID\": \"SOUTH BAY\", \"year\": 2010, \"CharacteristicID\": 515}, {\"LakeID\": \"SEYMOUR\", \"year\": 2010, \"CharacteristicID\": 276}, {\"LakeID\": \"FOREST (CALAIS)\", \"year\": 2010, \"CharacteristicID\": 239}, {\"LakeID\": \"WILLOUGHBY\", \"year\": 2010, \"CharacteristicID\": 179}, {\"LakeID\": \"NICHOLS\", \"year\": 2010, \"CharacteristicID\": 174}, {\"LakeID\": \"SOUTH BAY\", \"year\": 2009, \"CharacteristicID\": 557}, {\"LakeID\": \"WILLOUGHBY\", \"year\": 2009, \"CharacteristicID\": 362}, {\"LakeID\": \"SEYMOUR\", \"year\": 2009, \"CharacteristicID\": 331}, {\"LakeID\": \"SHADOW (GLOVER)\", \"year\": 2009, \"CharacteristicID\": 260}, {\"LakeID\": \"MAIDSTONE\", \"year\": 2009, \"CharacteristicID\": 235}, {\"LakeID\": \"RESCUE\", \"year\": 2008, \"CharacteristicID\": 1817}, {\"LakeID\": \"SOUTH BAY\", \"year\": 2008, \"CharacteristicID\": 453}, {\"LakeID\": \"SEYMOUR\", \"year\": 2008, \"CharacteristicID\": 407}, {\"LakeID\": \"PEACHAM\", \"year\": 2008, \"CharacteristicID\": 278}, {\"LakeID\": \"SABIN\", \"year\": 2008, \"CharacteristicID\": 267}, {\"LakeID\": \"CARMI\", \"year\": 2007, \"CharacteristicID\": 1094}, {\"LakeID\": \"MAIDSTONE\", \"year\": 2007, \"CharacteristicID\": 549}, {\"LakeID\": \"SOUTH BAY\", \"year\": 2007, \"CharacteristicID\": 408}, {\"LakeID\": \"CASPIAN\", \"year\": 2007, \"CharacteristicID\": 405}, {\"LakeID\": \"ECHO (CHARTN)\", \"year\": 2007, \"CharacteristicID\": 285}, {\"LakeID\": \"TICKLENAKED\", \"year\": 2006, \"CharacteristicID\": 2182}, {\"LakeID\": \"CARMI\", \"year\": 2006, \"CharacteristicID\": 907}, {\"LakeID\": \"SHELBURNE\", \"year\": 2006, \"CharacteristicID\": 700}, {\"LakeID\": \"SOUTH BAY\", \"year\": 2006, \"CharacteristicID\": 503}, {\"LakeID\": \"MAIDSTONE\", \"year\": 2006, \"CharacteristicID\": 229}, {\"LakeID\": \"TICKLENAKED\", \"year\": 2005, \"CharacteristicID\": 3395}, {\"LakeID\": \"SOUTH BAY\", \"year\": 2005, \"CharacteristicID\": 694}, {\"LakeID\": \"MAIDSTONE\", \"year\": 2005, \"CharacteristicID\": 242}, {\"LakeID\": \"SEYMOUR\", \"year\": 2005, \"CharacteristicID\": 218}, {\"LakeID\": \"SHADOW (CONCRD)\", \"year\": 2005, \"CharacteristicID\": 206}, {\"LakeID\": \"LONG (WESTMR)\", \"year\": 2004, \"CharacteristicID\": 305}, {\"LakeID\": \"JOES (DANVLL)\", \"year\": 2004, \"CharacteristicID\": 286}, {\"LakeID\": \"SHADOW (GLOVER)\", \"year\": 2004, \"CharacteristicID\": 273}, {\"LakeID\": \"FAIRFIELD\", \"year\": 2004, \"CharacteristicID\": 231}, {\"LakeID\": \"CURTIS\", \"year\": 2004, \"CharacteristicID\": 201}, {\"LakeID\": \"SPRING (SHRWBY)\", \"year\": 2003, \"CharacteristicID\": 260}, {\"LakeID\": \"TICKLENAKED\", \"year\": 2003, \"CharacteristicID\": 233}, {\"LakeID\": \"BEEBE (HUBDTN)\", \"year\": 2003, \"CharacteristicID\": 177}, {\"LakeID\": \"WILLOUGHBY\", \"year\": 2003, \"CharacteristicID\": 165}, {\"LakeID\": \"PERCH (BENSON)\", \"year\": 2003, \"CharacteristicID\": 146}, {\"LakeID\": \"GREAT HOSMER\", \"year\": 2002, \"CharacteristicID\": 127}, {\"LakeID\": \"MIRROR\", \"year\": 2002, \"CharacteristicID\": 109}, {\"LakeID\": \"MOREY\", \"year\": 2002, \"CharacteristicID\": 109}, {\"LakeID\": \"CARMI\", \"year\": 2002, \"CharacteristicID\": 99}, {\"LakeID\": \"PARKER\", \"year\": 2002, \"CharacteristicID\": 96}, {\"LakeID\": \"TICKLENAKED\", \"year\": 2001, \"CharacteristicID\": 1079}, {\"LakeID\": \"PARKER\", \"year\": 2001, \"CharacteristicID\": 790}, {\"LakeID\": \"CENTER\", \"year\": 2001, \"CharacteristicID\": 202}, {\"LakeID\": \"NORTH (BRKFLD)\", \"year\": 2001, \"CharacteristicID\": 163}, {\"LakeID\": \"FOREST (CALAIS)\", \"year\": 2001, \"CharacteristicID\": 138}, {\"LakeID\": \"TICKLENAKED\", \"year\": 2000, \"CharacteristicID\": 1068}, {\"LakeID\": \"PARKER\", \"year\": 2000, \"CharacteristicID\": 897}, {\"LakeID\": \"CARMI\", \"year\": 2000, \"CharacteristicID\": 148}, {\"LakeID\": \"SALEM\", \"year\": 2000, \"CharacteristicID\": 148}, {\"LakeID\": \"SEYMOUR\", \"year\": 2000, \"CharacteristicID\": 135}, {\"LakeID\": \"TICKLENAKED\", \"year\": 1999, \"CharacteristicID\": 1114}, {\"LakeID\": \"PARKER\", \"year\": 1999, \"CharacteristicID\": 848}, {\"LakeID\": \"EWELL\", \"year\": 1999, \"CharacteristicID\": 620}, {\"LakeID\": \"ST. CATHERINE\", \"year\": 1999, \"CharacteristicID\": 158}, {\"LakeID\": \"SPRING (SHRWBY)\", \"year\": 1999, \"CharacteristicID\": 143}, {\"LakeID\": \"EWELL\", \"year\": 1998, \"CharacteristicID\": 502}, {\"LakeID\": \"TICKLENAKED\", \"year\": 1998, \"CharacteristicID\": 431}, {\"LakeID\": \"BRANCH\", \"year\": 1998, \"CharacteristicID\": 229}, {\"LakeID\": \"DUNMORE\", \"year\": 1998, \"CharacteristicID\": 216}, {\"LakeID\": \"ST. CATHERINE\", \"year\": 1998, \"CharacteristicID\": 199}, {\"LakeID\": \"COLE\", \"year\": 1997, \"CharacteristicID\": 69}, {\"LakeID\": \"HOWE\", \"year\": 1997, \"CharacteristicID\": 67}, {\"LakeID\": \"SUNSET (MARLBR)\", \"year\": 1997, \"CharacteristicID\": 67}, {\"LakeID\": \"CHIPMAN\", \"year\": 1997, \"CharacteristicID\": 66}, {\"LakeID\": \"BRANCH\", \"year\": 1997, \"CharacteristicID\": 64}, {\"LakeID\": \"SPRING (SHRWBY)\", \"year\": 1996, \"CharacteristicID\": 155}, {\"LakeID\": \"WALLINGFORD\", \"year\": 1996, \"CharacteristicID\": 78}, {\"LakeID\": \"ST. CATHERINE\", \"year\": 1996, \"CharacteristicID\": 76}, {\"LakeID\": \"COLE\", \"year\": 1996, \"CharacteristicID\": 70}, {\"LakeID\": \"BOURN\", \"year\": 1996, \"CharacteristicID\": 64}, {\"LakeID\": \"GROUT\", \"year\": 1995, \"CharacteristicID\": 155}, {\"LakeID\": \"SPRING (SHRWBY)\", \"year\": 1995, \"CharacteristicID\": 136}, {\"LakeID\": \"SUNSET (MARLBR)\", \"year\": 1995, \"CharacteristicID\": 93}, {\"LakeID\": \"BOURN\", \"year\": 1995, \"CharacteristicID\": 86}, {\"LakeID\": \"LITTLE (WOODFD)\", \"year\": 1995, \"CharacteristicID\": 85}, {\"LakeID\": \"CARMI\", \"year\": 1994, \"CharacteristicID\": 795}, {\"LakeID\": \"HOWE\", \"year\": 1994, \"CharacteristicID\": 86}, {\"LakeID\": \"SUNSET (MARLBR)\", \"year\": 1994, \"CharacteristicID\": 86}, {\"LakeID\": \"BOURN\", \"year\": 1994, \"CharacteristicID\": 84}, {\"LakeID\": \"GROUT\", \"year\": 1994, \"CharacteristicID\": 84}, {\"LakeID\": \"HOWE\", \"year\": 1993, \"CharacteristicID\": 97}, {\"LakeID\": \"GROUT\", \"year\": 1993, \"CharacteristicID\": 95}, {\"LakeID\": \"STAMFORD\", \"year\": 1993, \"CharacteristicID\": 95}, {\"LakeID\": \"BRANCH\", \"year\": 1993, \"CharacteristicID\": 93}, {\"LakeID\": \"BEAVER (HOLLND)\", \"year\": 1993, \"CharacteristicID\": 92}, {\"LakeID\": \"SUNSET (MARLBR)\", \"year\": 1992, \"CharacteristicID\": 119}, {\"LakeID\": \"HOWE\", \"year\": 1992, \"CharacteristicID\": 117}, {\"LakeID\": \"GROUT\", \"year\": 1992, \"CharacteristicID\": 115}, {\"LakeID\": \"BOURN\", \"year\": 1992, \"CharacteristicID\": 101}, {\"LakeID\": \"HARDWOOD\", \"year\": 1992, \"CharacteristicID\": 83}, {\"LakeID\": \"COLE\", \"year\": 1991, \"CharacteristicID\": 134}, {\"LakeID\": \"LITTLE ROCK\", \"year\": 1991, \"CharacteristicID\": 128}, {\"LakeID\": \"HOWE\", \"year\": 1991, \"CharacteristicID\": 111}, {\"LakeID\": \"STAMFORD\", \"year\": 1991, \"CharacteristicID\": 96}, {\"LakeID\": \"SOUTH (MARLBR)\", \"year\": 1991, \"CharacteristicID\": 84}, {\"LakeID\": \"COLE\", \"year\": 1990, \"CharacteristicID\": 115}, {\"LakeID\": \"SUNSET (MARLBR)\", \"year\": 1990, \"CharacteristicID\": 112}, {\"LakeID\": \"HOWE\", \"year\": 1990, \"CharacteristicID\": 111}, {\"LakeID\": \"PIGEON\", \"year\": 1990, \"CharacteristicID\": 99}, {\"LakeID\": \"COW MOUNTAIN\", \"year\": 1990, \"CharacteristicID\": 96}, {\"LakeID\": \"HARDWOOD\", \"year\": 1989, \"CharacteristicID\": 204}, {\"LakeID\": \"HAYSTACK\", \"year\": 1989, \"CharacteristicID\": 203}, {\"LakeID\": \"GRIFFITH\", \"year\": 1989, \"CharacteristicID\": 188}, {\"LakeID\": \"PIGEON\", \"year\": 1989, \"CharacteristicID\": 187}, {\"LakeID\": \"BOURN\", \"year\": 1989, \"CharacteristicID\": 186}, {\"LakeID\": \"COW MOUNTAIN\", \"year\": 1988, \"CharacteristicID\": 139}, {\"LakeID\": \"PIGEON\", \"year\": 1988, \"CharacteristicID\": 126}, {\"LakeID\": \"LITTLE (WOODFD)\", \"year\": 1988, \"CharacteristicID\": 109}, {\"LakeID\": \"BOURN\", \"year\": 1988, \"CharacteristicID\": 106}, {\"LakeID\": \"GROUT\", \"year\": 1988, \"CharacteristicID\": 106}, {\"LakeID\": \"HARDWOOD\", \"year\": 1987, \"CharacteristicID\": 117}, {\"LakeID\": \"LEVI\", \"year\": 1987, \"CharacteristicID\": 111}, {\"LakeID\": \"SUNSET (MARLBR)\", \"year\": 1987, \"CharacteristicID\": 101}, {\"LakeID\": \"GROUT\", \"year\": 1987, \"CharacteristicID\": 100}, {\"LakeID\": \"MANSFIELD\", \"year\": 1987, \"CharacteristicID\": 87}, {\"LakeID\": \"HOWE\", \"year\": 1986, \"CharacteristicID\": 117}, {\"LakeID\": \"PIGEON\", \"year\": 1986, \"CharacteristicID\": 109}, {\"LakeID\": \"LITTLE (WINHLL)\", \"year\": 1986, \"CharacteristicID\": 106}, {\"LakeID\": \"SOUTH (MARLBR)\", \"year\": 1986, \"CharacteristicID\": 101}, {\"LakeID\": \"SUNSET (MARLBR)\", \"year\": 1986, \"CharacteristicID\": 101}, {\"LakeID\": \"BRANCH\", \"year\": 1985, \"CharacteristicID\": 98}, {\"LakeID\": \"COLE\", \"year\": 1985, \"CharacteristicID\": 97}, {\"LakeID\": \"SOUTH (MARLBR)\", \"year\": 1985, \"CharacteristicID\": 96}, {\"LakeID\": \"BIG MUD\", \"year\": 1985, \"CharacteristicID\": 94}, {\"LakeID\": \"LITTLE ROCK\", \"year\": 1985, \"CharacteristicID\": 94}, {\"LakeID\": \"HARDWOOD\", \"year\": 1984, \"CharacteristicID\": 103}, {\"LakeID\": \"HOWE\", \"year\": 1984, \"CharacteristicID\": 102}, {\"LakeID\": \"SOMERSET\", \"year\": 1984, \"CharacteristicID\": 94}, {\"LakeID\": \"SUNSET (MARLBR)\", \"year\": 1984, \"CharacteristicID\": 91}, {\"LakeID\": \"HAYSTACK\", \"year\": 1984, \"CharacteristicID\": 90}, {\"LakeID\": \"COLE\", \"year\": 1983, \"CharacteristicID\": 107}, {\"LakeID\": \"HARDWOOD\", \"year\": 1983, \"CharacteristicID\": 79}, {\"LakeID\": \"BOURN\", \"year\": 1983, \"CharacteristicID\": 78}, {\"LakeID\": \"LEVI\", \"year\": 1983, \"CharacteristicID\": 78}, {\"LakeID\": \"LITTLE (WINHLL)\", \"year\": 1983, \"CharacteristicID\": 78}, {\"LakeID\": \"ADAMS (WOODFD)\", \"year\": 1982, \"CharacteristicID\": 61}, {\"LakeID\": \"BRANCH\", \"year\": 1982, \"CharacteristicID\": 61}, {\"LakeID\": \"COW MOUNTAIN\", \"year\": 1982, \"CharacteristicID\": 61}, {\"LakeID\": \"LITTLE (WINHLL)\", \"year\": 1982, \"CharacteristicID\": 61}, {\"LakeID\": \"GRIFFITH\", \"year\": 1982, \"CharacteristicID\": 60}, {\"LakeID\": \"LEVI\", \"year\": 1981, \"CharacteristicID\": 51}, {\"LakeID\": \"COLE\", \"year\": 1981, \"CharacteristicID\": 48}, {\"LakeID\": \"BRANCH\", \"year\": 1981, \"CharacteristicID\": 46}, {\"LakeID\": \"SUNSET (MARLBR)\", \"year\": 1981, \"CharacteristicID\": 45}, {\"LakeID\": \"CHAMP-SOUTH LAKE\", \"year\": 1981, \"CharacteristicID\": 44}, {\"LakeID\": \"CHAMP-SOUTH LAKE\", \"year\": 1980, \"CharacteristicID\": 58}, {\"LakeID\": \"COLE\", \"year\": 1980, \"CharacteristicID\": 57}, {\"LakeID\": \"SUNSET (BENSON)\", \"year\": 1980, \"CharacteristicID\": 39}, {\"LakeID\": \"CARMI\", \"year\": 1980, \"CharacteristicID\": 38}, {\"LakeID\": \"LILY (LONDRY)\", \"year\": 1980, \"CharacteristicID\": 34}]}}, {\"mode\": \"vega-lite\"});\n",
       "</script>"
      ],
      "text/plain": [
       "alt.FacetChart(...)"
      ]
     },
     "execution_count": 46,
     "metadata": {},
     "output_type": "execute_result"
    }
   ],
   "source": [
    "# top ten most measured lakes by year\n",
    "alt.Chart(top).mark_bar().encode(\n",
    "    x=alt.X('LakeID:N', sort='-y', title=None),\n",
    "    y=alt.Y('CharacteristicID:Q', title=None, axis=alt.Axis(grid=False))\n",
    ").properties(width=100,\n",
    "    height=100\n",
    ").facet('year:O', columns=5).resolve_scale(x='independent', y='independent').configure_view(strokeWidth=0\n",
    ")\n"
   ]
  },
  {
   "cell_type": "code",
   "execution_count": 52,
   "id": "ca28a5ba",
   "metadata": {},
   "outputs": [
    {
     "data": {
      "text/html": [
       "\n",
       "<div id=\"altair-viz-7a4fbe4ad20e4361a13b33d9ce8ac1ee\"></div>\n",
       "<script type=\"text/javascript\">\n",
       "  (function(spec, embedOpt){\n",
       "    let outputDiv = document.currentScript.previousElementSibling;\n",
       "    if (outputDiv.id !== \"altair-viz-7a4fbe4ad20e4361a13b33d9ce8ac1ee\") {\n",
       "      outputDiv = document.getElementById(\"altair-viz-7a4fbe4ad20e4361a13b33d9ce8ac1ee\");\n",
       "    }\n",
       "    const paths = {\n",
       "      \"vega\": \"https://cdn.jsdelivr.net/npm//vega@5?noext\",\n",
       "      \"vega-lib\": \"https://cdn.jsdelivr.net/npm//vega-lib?noext\",\n",
       "      \"vega-lite\": \"https://cdn.jsdelivr.net/npm//vega-lite@4.8.1?noext\",\n",
       "      \"vega-embed\": \"https://cdn.jsdelivr.net/npm//vega-embed@6?noext\",\n",
       "    };\n",
       "\n",
       "    function loadScript(lib) {\n",
       "      return new Promise(function(resolve, reject) {\n",
       "        var s = document.createElement('script');\n",
       "        s.src = paths[lib];\n",
       "        s.async = true;\n",
       "        s.onload = () => resolve(paths[lib]);\n",
       "        s.onerror = () => reject(`Error loading script: ${paths[lib]}`);\n",
       "        document.getElementsByTagName(\"head\")[0].appendChild(s);\n",
       "      });\n",
       "    }\n",
       "\n",
       "    function showError(err) {\n",
       "      outputDiv.innerHTML = `<div class=\"error\" style=\"color:red;\">${err}</div>`;\n",
       "      throw err;\n",
       "    }\n",
       "\n",
       "    function displayChart(vegaEmbed) {\n",
       "      vegaEmbed(outputDiv, spec, embedOpt)\n",
       "        .catch(err => showError(`Javascript Error: ${err.message}<br>This usually means there's a typo in your chart specification. See the javascript console for the full traceback.`));\n",
       "    }\n",
       "\n",
       "    if(typeof define === \"function\" && define.amd) {\n",
       "      requirejs.config({paths});\n",
       "      require([\"vega-embed\"], displayChart, err => showError(`Error loading script: ${err.message}`));\n",
       "    } else if (typeof vegaEmbed === \"function\") {\n",
       "      displayChart(vegaEmbed);\n",
       "    } else {\n",
       "      loadScript(\"vega\")\n",
       "        .then(() => loadScript(\"vega-lite\"))\n",
       "        .then(() => loadScript(\"vega-embed\"))\n",
       "        .catch(showError)\n",
       "        .then(() => displayChart(vegaEmbed));\n",
       "    }\n",
       "  })({\"config\": {\"view\": {\"continuousWidth\": 400, \"continuousHeight\": 300, \"strokeWidth\": 0}}, \"data\": {\"name\": \"data-1597c2eec01ee9ee2f73080209a36d39\"}, \"facet\": {\"type\": \"ordinal\", \"field\": \"year\"}, \"spec\": {\"mark\": \"bar\", \"encoding\": {\"x\": {\"type\": \"nominal\", \"field\": \"LakeID\", \"sort\": \"-y\", \"title\": null}, \"y\": {\"type\": \"quantitative\", \"axis\": {\"grid\": false}, \"field\": \"CharacteristicID\", \"title\": null}}, \"height\": 100, \"width\": 100}, \"columns\": 5, \"resolve\": {\"scale\": {\"x\": \"independent\", \"y\": \"independent\"}}, \"$schema\": \"https://vega.github.io/schema/vega-lite/v4.8.1.json\", \"datasets\": {\"data-1597c2eec01ee9ee2f73080209a36d39\": [{\"LakeID\": \"SILVER (BARNRD)\", \"year\": 2021, \"CharacteristicID\": 45}, {\"LakeID\": \"NORTON\", \"year\": 2021, \"CharacteristicID\": 35}, {\"LakeID\": \"JEROME;\", \"year\": 2021, \"CharacteristicID\": 10}, {\"LakeID\": \"RUNNEMEDE\", \"year\": 2021, \"CharacteristicID\": 10}, {\"LakeID\": \"STAR\", \"year\": 2021, \"CharacteristicID\": 10}, {\"LakeID\": \"BOMOSEEN\", \"year\": 2020, \"CharacteristicID\": 4}, {\"LakeID\": \"BROWNINGTON\", \"year\": 2020, \"CharacteristicID\": 4}, {\"LakeID\": \"RUNNEMEDE\", \"year\": 2020, \"CharacteristicID\": 4}, {\"LakeID\": \"SHADOW (WOODBY)\", \"year\": 2020, \"CharacteristicID\": 3}, {\"LakeID\": \"PINNEO\", \"year\": 2020, \"CharacteristicID\": 1}, {\"LakeID\": \"BEEBE (HUBDTN)\", \"year\": 2019, \"CharacteristicID\": 9}, {\"LakeID\": \"SOUTH (MARLBR)\", \"year\": 2019, \"CharacteristicID\": 8}, {\"LakeID\": \"SPRING (SHRWBY)\", \"year\": 2019, \"CharacteristicID\": 8}, {\"LakeID\": \"CHITTENDEN\", \"year\": 2019, \"CharacteristicID\": 4}, {\"LakeID\": \"RICKER\", \"year\": 2019, \"CharacteristicID\": 4}, {\"LakeID\": \"SABIN\", \"year\": 2018, \"CharacteristicID\": 10}, {\"LakeID\": \"GREEN RIVER\", \"year\": 2018, \"CharacteristicID\": 9}, {\"LakeID\": \"SUNRISE\", \"year\": 2018, \"CharacteristicID\": 9}, {\"LakeID\": \"BROWNINGTON\", \"year\": 2018, \"CharacteristicID\": 7}, {\"LakeID\": \"ECHO (HUBDTN)\", \"year\": 2018, \"CharacteristicID\": 2}, {\"LakeID\": \"SILVER (BARNRD)\", \"year\": 2017, \"CharacteristicID\": 12}, {\"LakeID\": \"VERNON HATCHERY;\", \"year\": 2017, \"CharacteristicID\": 12}, {\"LakeID\": \"BEEBE (HUBDTN)\", \"year\": 2017, \"CharacteristicID\": 11}, {\"LakeID\": \"FOREST (CALAIS)\", \"year\": 2017, \"CharacteristicID\": 3}, {\"LakeID\": \"NINEVAH\", \"year\": 2017, \"CharacteristicID\": 2}, {\"LakeID\": \"NICHOLS\", \"year\": 2016, \"CharacteristicID\": 9}, {\"LakeID\": \"JOES (DANVLL)\", \"year\": 2016, \"CharacteristicID\": 8}, {\"LakeID\": \"BERLIN\", \"year\": 2016, \"CharacteristicID\": 6}, {\"LakeID\": \"FOREST (CALAIS)\", \"year\": 2016, \"CharacteristicID\": 6}, {\"LakeID\": \"ISLAND\", \"year\": 2016, \"CharacteristicID\": 6}, {\"LakeID\": \"PERCH (BENSON)\", \"year\": 2015, \"CharacteristicID\": 10}, {\"LakeID\": \"EAST LONG\", \"year\": 2015, \"CharacteristicID\": 9}, {\"LakeID\": \"SABIN\", \"year\": 2015, \"CharacteristicID\": 9}, {\"LakeID\": \"SOUTH (MARLBR)\", \"year\": 2015, \"CharacteristicID\": 9}, {\"LakeID\": \"SUNRISE\", \"year\": 2015, \"CharacteristicID\": 9}, {\"LakeID\": \"SABIN\", \"year\": 2014, \"CharacteristicID\": 9}, {\"LakeID\": \"SUNRISE\", \"year\": 2014, \"CharacteristicID\": 9}, {\"LakeID\": \"ISLAND\", \"year\": 2014, \"CharacteristicID\": 8}, {\"LakeID\": \"SUNSET (BENSON)\", \"year\": 2014, \"CharacteristicID\": 8}, {\"LakeID\": \"AMHERST\", \"year\": 2014, \"CharacteristicID\": 4}, {\"LakeID\": \"SILVER (BARNRD)\", \"year\": 2013, \"CharacteristicID\": 11}, {\"LakeID\": \"PERCH (BENSON)\", \"year\": 2013, \"CharacteristicID\": 9}, {\"LakeID\": \"ISLAND\", \"year\": 2013, \"CharacteristicID\": 8}, {\"LakeID\": \"SUNRISE\", \"year\": 2013, \"CharacteristicID\": 8}, {\"LakeID\": \"MEMPHREMAGOG\", \"year\": 2013, \"CharacteristicID\": 3}, {\"LakeID\": \"COLTON\", \"year\": 2012, \"CharacteristicID\": 3}, {\"LakeID\": \"KNAPP BROOK #2\", \"year\": 2012, \"CharacteristicID\": 3}, {\"LakeID\": \"LITTLE HOSMER\", \"year\": 2012, \"CharacteristicID\": 3}, {\"LakeID\": \"MUD (GRANBY)\", \"year\": 2012, \"CharacteristicID\": 3}, {\"LakeID\": \"SPRUCE (ORWELL)\", \"year\": 2012, \"CharacteristicID\": 3}, {\"LakeID\": \"SABIN\", \"year\": 2011, \"CharacteristicID\": 12}, {\"LakeID\": \"KEISER\", \"year\": 2011, \"CharacteristicID\": 11}, {\"LakeID\": \"ISLAND\", \"year\": 2011, \"CharacteristicID\": 10}, {\"LakeID\": \"BEEBE (HUBDTN)\", \"year\": 2011, \"CharacteristicID\": 9}, {\"LakeID\": \"SPRUCE (ORWELL)\", \"year\": 2011, \"CharacteristicID\": 7}, {\"LakeID\": \"LILY (POULTY)\", \"year\": 2010, \"CharacteristicID\": 10}, {\"LakeID\": \"MUD (GRANBY)\", \"year\": 2010, \"CharacteristicID\": 10}, {\"LakeID\": \"SUNRISE\", \"year\": 2010, \"CharacteristicID\": 10}, {\"LakeID\": \"SUNSET (BENSON)\", \"year\": 2010, \"CharacteristicID\": 10}, {\"LakeID\": \"TOAD (CHARTN)\", \"year\": 2010, \"CharacteristicID\": 10}, {\"LakeID\": \"BEEBE (HUBDTN)\", \"year\": 2009, \"CharacteristicID\": 12}, {\"LakeID\": \"SUNRISE\", \"year\": 2009, \"CharacteristicID\": 11}, {\"LakeID\": \"BOMOSEEN\", \"year\": 2009, \"CharacteristicID\": 10}, {\"LakeID\": \"PERCH (BENSON)\", \"year\": 2009, \"CharacteristicID\": 10}, {\"LakeID\": \"SILVER (BARNRD)\", \"year\": 2009, \"CharacteristicID\": 10}, {\"LakeID\": \"SUNSET (BRKFLD)\", \"year\": 2008, \"CharacteristicID\": 12}, {\"LakeID\": \"SUNRISE\", \"year\": 2008, \"CharacteristicID\": 11}, {\"LakeID\": \"HOLLAND\", \"year\": 2008, \"CharacteristicID\": 10}, {\"LakeID\": \"SILVER (BARNRD)\", \"year\": 2008, \"CharacteristicID\": 9}, {\"LakeID\": \"BEEBE (HUBDTN)\", \"year\": 2008, \"CharacteristicID\": 7}, {\"LakeID\": \"MILL (WINDSR)\", \"year\": 2007, \"CharacteristicID\": 11}, {\"LakeID\": \"NEWARK\", \"year\": 2007, \"CharacteristicID\": 11}, {\"LakeID\": \"WALLACE\", \"year\": 2007, \"CharacteristicID\": 11}, {\"LakeID\": \"WOLCOTT\", \"year\": 2007, \"CharacteristicID\": 11}, {\"LakeID\": \"SUNRISE\", \"year\": 2007, \"CharacteristicID\": 10}, {\"LakeID\": \"BOMOSEEN\", \"year\": 2006, \"CharacteristicID\": 13}, {\"LakeID\": \"DEER PARK\", \"year\": 2006, \"CharacteristicID\": 13}, {\"LakeID\": \"HOLLAND\", \"year\": 2006, \"CharacteristicID\": 10}, {\"LakeID\": \"BAKER (BRKFLD)\", \"year\": 2006, \"CharacteristicID\": 9}, {\"LakeID\": \"ISLAND\", \"year\": 2006, \"CharacteristicID\": 9}, {\"LakeID\": \"NULHEGAN\", \"year\": 2005, \"CharacteristicID\": 9}, {\"LakeID\": \"PAUL STREAM\", \"year\": 2005, \"CharacteristicID\": 9}, {\"LakeID\": \"SPECTACLE\", \"year\": 2005, \"CharacteristicID\": 9}, {\"LakeID\": \"WEST MOUNTAIN\", \"year\": 2005, \"CharacteristicID\": 9}, {\"LakeID\": \"WHEELER (BRUNWK)\", \"year\": 2005, \"CharacteristicID\": 9}, {\"LakeID\": \"NORTH MONTPELIER\", \"year\": 2004, \"CharacteristicID\": 9}, {\"LakeID\": \"PINNEO\", \"year\": 2004, \"CharacteristicID\": 9}, {\"LakeID\": \"WEST HILL\", \"year\": 2004, \"CharacteristicID\": 9}, {\"LakeID\": \"EDEN\", \"year\": 2004, \"CharacteristicID\": 8}, {\"LakeID\": \"KENT\", \"year\": 2004, \"CharacteristicID\": 8}, {\"LakeID\": \"LONG (WESTMR)\", \"year\": 2003, \"CharacteristicID\": 10}, {\"LakeID\": \"LOST (GEORGA)\", \"year\": 2003, \"CharacteristicID\": 10}, {\"LakeID\": \"ISLAND\", \"year\": 2003, \"CharacteristicID\": 9}, {\"LakeID\": \"SILVER (BARNRD)\", \"year\": 2003, \"CharacteristicID\": 9}, {\"LakeID\": \"GROTON\", \"year\": 2003, \"CharacteristicID\": 8}, {\"LakeID\": \"TELEPHONE;\", \"year\": 2002, \"CharacteristicID\": 9}, {\"LakeID\": \"GROTON\", \"year\": 2002, \"CharacteristicID\": 8}, {\"LakeID\": \"SILVER (BARNRD)\", \"year\": 2002, \"CharacteristicID\": 8}, {\"LakeID\": \"CLARA\", \"year\": 2002, \"CharacteristicID\": 2}, {\"LakeID\": \"HIDDEN\", \"year\": 2002, \"CharacteristicID\": 2}, {\"LakeID\": \"LEWIS\", \"year\": 2001, \"CharacteristicID\": 8}, {\"LakeID\": \"LONG (EDEN)\", \"year\": 2001, \"CharacteristicID\": 8}, {\"LakeID\": \"LONG (WESTMR)\", \"year\": 2001, \"CharacteristicID\": 8}, {\"LakeID\": \"RYDER\", \"year\": 2001, \"CharacteristicID\": 6}, {\"LakeID\": \"WHEELER (BARTON)\", \"year\": 2001, \"CharacteristicID\": 5}, {\"LakeID\": \"MUD (THETFD)\", \"year\": 2000, \"CharacteristicID\": 7}, {\"LakeID\": \"NORFORD\", \"year\": 2000, \"CharacteristicID\": 7}, {\"LakeID\": \"SILVER (BARNRD)\", \"year\": 2000, \"CharacteristicID\": 7}, {\"LakeID\": \"VALLEY\", \"year\": 2000, \"CharacteristicID\": 7}, {\"LakeID\": \"EWELL\", \"year\": 2000, \"CharacteristicID\": 6}, {\"LakeID\": \"COITS\", \"year\": 1999, \"CharacteristicID\": 6}, {\"LakeID\": \"COLES\", \"year\": 1999, \"CharacteristicID\": 6}, {\"LakeID\": \"SILVER (BARNRD)\", \"year\": 1999, \"CharacteristicID\": 6}, {\"LakeID\": \"SARAH MOORES\", \"year\": 1999, \"CharacteristicID\": 4}, {\"LakeID\": \"SHADOW (CONCRD)\", \"year\": 1999, \"CharacteristicID\": 4}, {\"LakeID\": \"MARL\", \"year\": 1998, \"CharacteristicID\": 4}, {\"LakeID\": \"NULHEGAN\", \"year\": 1998, \"CharacteristicID\": 3}, {\"LakeID\": \"NEAL\", \"year\": 1998, \"CharacteristicID\": 2}, {\"LakeID\": \"BIG\", \"year\": 1998, \"CharacteristicID\": 1}, {\"LakeID\": \"MAY\", \"year\": 1998, \"CharacteristicID\": 1}, {\"LakeID\": \"SOUTH (BRKFLD)\", \"year\": 1997, \"CharacteristicID\": 3}, {\"LakeID\": \"SPRUCE (ORWELL)\", \"year\": 1997, \"CharacteristicID\": 3}, {\"LakeID\": \"SUNSET (BENSON)\", \"year\": 1997, \"CharacteristicID\": 3}, {\"LakeID\": \"OLD MARSH\", \"year\": 1997, \"CharacteristicID\": 2}, {\"LakeID\": \"SODOM\", \"year\": 1997, \"CharacteristicID\": 2}, {\"LakeID\": \"LEFFERTS\", \"year\": 1996, \"CharacteristicID\": 5}, {\"LakeID\": \"PINNEO\", \"year\": 1996, \"CharacteristicID\": 4}, {\"LakeID\": \"HARRIMAN (WHITHM)\", \"year\": 1996, \"CharacteristicID\": 3}, {\"LakeID\": \"CHAMPAGNE\", \"year\": 1996, \"CharacteristicID\": 2}, {\"LakeID\": \"SHADOW (CONCRD)\", \"year\": 1996, \"CharacteristicID\": 2}, {\"LakeID\": \"WALLACE\", \"year\": 1995, \"CharacteristicID\": 2}, {\"LakeID\": \"WANTASTIQUET\", \"year\": 1995, \"CharacteristicID\": 2}, {\"LakeID\": \"WATERBURY\", \"year\": 1995, \"CharacteristicID\": 2}, {\"LakeID\": \"WEST MOUNTAIN\", \"year\": 1995, \"CharacteristicID\": 2}, {\"LakeID\": \"WOODWARD\", \"year\": 1995, \"CharacteristicID\": 2}, {\"LakeID\": \"TOAD (CHARTN)\", \"year\": 1994, \"CharacteristicID\": 2}, {\"LakeID\": \"TURTLE\", \"year\": 1994, \"CharacteristicID\": 2}, {\"LakeID\": \"UPPER SYMES\", \"year\": 1994, \"CharacteristicID\": 2}, {\"LakeID\": \"WARDEN\", \"year\": 1994, \"CharacteristicID\": 2}, {\"LakeID\": \"AMHERST\", \"year\": 1994, \"CharacteristicID\": 1}, {\"LakeID\": \"NEAL\", \"year\": 1993, \"CharacteristicID\": 1}, {\"LakeID\": \"NORTON\", \"year\": 1993, \"CharacteristicID\": 1}, {\"LakeID\": \"RAPONDA\", \"year\": 1993, \"CharacteristicID\": 1}, {\"LakeID\": \"SADAWGA\", \"year\": 1993, \"CharacteristicID\": 1}, {\"LakeID\": \"SALEM\", \"year\": 1993, \"CharacteristicID\": 1}, {\"LakeID\": \"WEST HILL\", \"year\": 1992, \"CharacteristicID\": 2}, {\"LakeID\": \"WEST MOUNTAIN\", \"year\": 1992, \"CharacteristicID\": 2}, {\"LakeID\": \"WRIGHTSVILLE\", \"year\": 1992, \"CharacteristicID\": 2}, {\"LakeID\": \"ZACK WOODS\", \"year\": 1992, \"CharacteristicID\": 2}, {\"LakeID\": \"MCINTOSH\", \"year\": 1992, \"CharacteristicID\": 1}, {\"LakeID\": \"STOUGHTON\", \"year\": 1991, \"CharacteristicID\": 2}, {\"LakeID\": \"WARDEN\", \"year\": 1991, \"CharacteristicID\": 2}, {\"LakeID\": \"WEST HILL\", \"year\": 1991, \"CharacteristicID\": 2}, {\"LakeID\": \"WOLCOTT\", \"year\": 1991, \"CharacteristicID\": 2}, {\"LakeID\": \"ZACK WOODS\", \"year\": 1991, \"CharacteristicID\": 2}, {\"LakeID\": \"WATERBURY\", \"year\": 1990, \"CharacteristicID\": 2}, {\"LakeID\": \"WEATHERHEAD HOLLOW\", \"year\": 1990, \"CharacteristicID\": 2}, {\"LakeID\": \"WOLCOTT\", \"year\": 1990, \"CharacteristicID\": 2}, {\"LakeID\": \"WRIGHTSVILLE\", \"year\": 1990, \"CharacteristicID\": 2}, {\"LakeID\": \"ZACK WOODS\", \"year\": 1990, \"CharacteristicID\": 2}, {\"LakeID\": \"TURTLEHEAD\", \"year\": 1989, \"CharacteristicID\": 2}, {\"LakeID\": \"WEATHERHEAD HOLLOW\", \"year\": 1989, \"CharacteristicID\": 2}, {\"LakeID\": \"WOLCOTT\", \"year\": 1989, \"CharacteristicID\": 2}, {\"LakeID\": \"ZACK WOODS\", \"year\": 1989, \"CharacteristicID\": 2}, {\"LakeID\": \"WOODWARD\", \"year\": 1989, \"CharacteristicID\": 1}, {\"LakeID\": \"NEWARK\", \"year\": 1988, \"CharacteristicID\": 2}, {\"LakeID\": \"NICHOLS\", \"year\": 1988, \"CharacteristicID\": 2}, {\"LakeID\": \"NULHEGAN\", \"year\": 1988, \"CharacteristicID\": 2}, {\"LakeID\": \"TURTLEHEAD\", \"year\": 1988, \"CharacteristicID\": 2}, {\"LakeID\": \"ZACK WOODS\", \"year\": 1988, \"CharacteristicID\": 2}, {\"LakeID\": \"WALLACE\", \"year\": 1987, \"CharacteristicID\": 2}, {\"LakeID\": \"WILLOUGHBY\", \"year\": 1987, \"CharacteristicID\": 2}, {\"LakeID\": \"WINONA\", \"year\": 1987, \"CharacteristicID\": 2}, {\"LakeID\": \"WOLCOTT\", \"year\": 1987, \"CharacteristicID\": 2}, {\"LakeID\": \"ZACK WOODS\", \"year\": 1987, \"CharacteristicID\": 2}, {\"LakeID\": \"SUNSET (BENSON)\", \"year\": 1986, \"CharacteristicID\": 2}, {\"LakeID\": \"TICKLENAKED\", \"year\": 1986, \"CharacteristicID\": 2}, {\"LakeID\": \"WALLACE\", \"year\": 1986, \"CharacteristicID\": 2}, {\"LakeID\": \"WINONA\", \"year\": 1986, \"CharacteristicID\": 2}, {\"LakeID\": \"WILLOUGHBY\", \"year\": 1986, \"CharacteristicID\": 1}, {\"LakeID\": \"STAR\", \"year\": 1985, \"CharacteristicID\": 2}, {\"LakeID\": \"SUNSET (BENSON)\", \"year\": 1985, \"CharacteristicID\": 2}, {\"LakeID\": \"TICKLENAKED\", \"year\": 1985, \"CharacteristicID\": 2}, {\"LakeID\": \"WILLOUGHBY\", \"year\": 1985, \"CharacteristicID\": 2}, {\"LakeID\": \"WINONA\", \"year\": 1985, \"CharacteristicID\": 2}, {\"LakeID\": \"SUNSET (BENSON)\", \"year\": 1984, \"CharacteristicID\": 2}, {\"LakeID\": \"TICKLENAKED\", \"year\": 1984, \"CharacteristicID\": 2}, {\"LakeID\": \"WALLACE\", \"year\": 1984, \"CharacteristicID\": 2}, {\"LakeID\": \"WINONA\", \"year\": 1984, \"CharacteristicID\": 2}, {\"LakeID\": \"WILLOUGHBY\", \"year\": 1984, \"CharacteristicID\": 1}, {\"LakeID\": \"SALEM\", \"year\": 1983, \"CharacteristicID\": 2}, {\"LakeID\": \"SHELBURNE\", \"year\": 1983, \"CharacteristicID\": 2}, {\"LakeID\": \"STAR\", \"year\": 1983, \"CharacteristicID\": 2}, {\"LakeID\": \"TICKLENAKED\", \"year\": 1983, \"CharacteristicID\": 2}, {\"LakeID\": \"WINONA\", \"year\": 1983, \"CharacteristicID\": 2}, {\"LakeID\": \"SILVER (BARNRD)\", \"year\": 1982, \"CharacteristicID\": 2}, {\"LakeID\": \"STAR\", \"year\": 1982, \"CharacteristicID\": 2}, {\"LakeID\": \"TICKLENAKED\", \"year\": 1982, \"CharacteristicID\": 2}, {\"LakeID\": \"WILLOUGHBY\", \"year\": 1982, \"CharacteristicID\": 2}, {\"LakeID\": \"WRIGHTSVILLE\", \"year\": 1982, \"CharacteristicID\": 2}, {\"LakeID\": \"SILVER (BARNRD)\", \"year\": 1981, \"CharacteristicID\": 1}, {\"LakeID\": \"STAR\", \"year\": 1981, \"CharacteristicID\": 1}, {\"LakeID\": \"TICKLENAKED\", \"year\": 1981, \"CharacteristicID\": 1}, {\"LakeID\": \"TILDYS\", \"year\": 1981, \"CharacteristicID\": 1}, {\"LakeID\": \"WINONA\", \"year\": 1981, \"CharacteristicID\": 1}, {\"LakeID\": \"GLEN\", \"year\": 1980, \"CharacteristicID\": 1}, {\"LakeID\": \"GREENWOOD\", \"year\": 1980, \"CharacteristicID\": 1}, {\"LakeID\": \"MIRROR\", \"year\": 1980, \"CharacteristicID\": 1}, {\"LakeID\": \"N.E. DEVELOPERS\", \"year\": 1980, \"CharacteristicID\": 1}, {\"LakeID\": \"SHIPPEE\", \"year\": 1980, \"CharacteristicID\": 1}]}}, {\"mode\": \"vega-lite\"});\n",
       "</script>"
      ],
      "text/plain": [
       "alt.FacetChart(...)"
      ]
     },
     "execution_count": 52,
     "metadata": {},
     "output_type": "execute_result"
    }
   ],
   "source": [
    "# bottom ten most measured lakes by year\n",
    "alt.Chart(bottom).mark_bar().encode(\n",
    "    x=alt.X('LakeID:N', sort='-y', title=None),\n",
    "    y=alt.Y('CharacteristicID:Q', title=None, axis=alt.Axis(grid=False))\n",
    ").properties(width=100,\n",
    "    height=100\n",
    ").facet('year:O', columns=5).resolve_scale(x='independent', y='independent').configure_view(strokeWidth=0\n",
    ")\n"
   ]
  },
  {
   "cell_type": "code",
   "execution_count": 65,
   "id": "0c09ab66",
   "metadata": {},
   "outputs": [
    {
     "data": {
      "text/html": [
       "<div>\n",
       "<style scoped>\n",
       "    .dataframe tbody tr th:only-of-type {\n",
       "        vertical-align: middle;\n",
       "    }\n",
       "\n",
       "    .dataframe tbody tr th {\n",
       "        vertical-align: top;\n",
       "    }\n",
       "\n",
       "    .dataframe thead th {\n",
       "        text-align: right;\n",
       "    }\n",
       "</style>\n",
       "<table border=\"1\" class=\"dataframe\">\n",
       "  <thead>\n",
       "    <tr style=\"text-align: right;\">\n",
       "      <th></th>\n",
       "      <th>year</th>\n",
       "      <th>CharacteristicID</th>\n",
       "      <th>Result</th>\n",
       "    </tr>\n",
       "  </thead>\n",
       "  <tbody>\n",
       "    <tr>\n",
       "      <th>1206</th>\n",
       "      <td>2021</td>\n",
       "      <td>Cond</td>\n",
       "      <td>495</td>\n",
       "    </tr>\n",
       "    <tr>\n",
       "      <th>1207</th>\n",
       "      <td>2021</td>\n",
       "      <td>DO</td>\n",
       "      <td>495</td>\n",
       "    </tr>\n",
       "    <tr>\n",
       "      <th>1208</th>\n",
       "      <td>2021</td>\n",
       "      <td>DO%</td>\n",
       "      <td>495</td>\n",
       "    </tr>\n",
       "    <tr>\n",
       "      <th>1187</th>\n",
       "      <td>2020</td>\n",
       "      <td>Secchi</td>\n",
       "      <td>729</td>\n",
       "    </tr>\n",
       "    <tr>\n",
       "      <th>1198</th>\n",
       "      <td>2020</td>\n",
       "      <td>TP</td>\n",
       "      <td>547</td>\n",
       "    </tr>\n",
       "    <tr>\n",
       "      <th>...</th>\n",
       "      <td>...</td>\n",
       "      <td>...</td>\n",
       "      <td>...</td>\n",
       "    </tr>\n",
       "    <tr>\n",
       "      <th>15</th>\n",
       "      <td>1981</td>\n",
       "      <td>Secchi</td>\n",
       "      <td>403</td>\n",
       "    </tr>\n",
       "    <tr>\n",
       "      <th>24</th>\n",
       "      <td>1981</td>\n",
       "      <td>pH</td>\n",
       "      <td>172</td>\n",
       "    </tr>\n",
       "    <tr>\n",
       "      <th>3</th>\n",
       "      <td>1980</td>\n",
       "      <td>Secchi</td>\n",
       "      <td>485</td>\n",
       "    </tr>\n",
       "    <tr>\n",
       "      <th>0</th>\n",
       "      <td>1980</td>\n",
       "      <td>Chla</td>\n",
       "      <td>332</td>\n",
       "    </tr>\n",
       "    <tr>\n",
       "      <th>9</th>\n",
       "      <td>1980</td>\n",
       "      <td>pH</td>\n",
       "      <td>150</td>\n",
       "    </tr>\n",
       "  </tbody>\n",
       "</table>\n",
       "<p>126 rows × 3 columns</p>\n",
       "</div>"
      ],
      "text/plain": [
       "      year CharacteristicID  Result\n",
       "1206  2021             Cond     495\n",
       "1207  2021               DO     495\n",
       "1208  2021              DO%     495\n",
       "1187  2020           Secchi     729\n",
       "1198  2020               TP     547\n",
       "...    ...              ...     ...\n",
       "15    1981           Secchi     403\n",
       "24    1981               pH     172\n",
       "3     1980           Secchi     485\n",
       "0     1980             Chla     332\n",
       "9     1980               pH     150\n",
       "\n",
       "[126 rows x 3 columns]"
      ]
     },
     "execution_count": 65,
     "metadata": {},
     "output_type": "execute_result"
    }
   ],
   "source": [
    "# What is the distribution of measurments. Which parameters are most measured.\n",
    "most = chem_data.groupby(['year','CharacteristicID'])['Result'].count()\n",
    "most = most.reset_index()\n",
    "most = most.sort_values(by=['year', 'Result'], ascending=False).groupby('year').head(3)\n",
    "most"
   ]
  },
  {
   "cell_type": "code",
   "execution_count": 66,
   "id": "65e953ba",
   "metadata": {},
   "outputs": [
    {
     "data": {
      "text/html": [
       "\n",
       "<div id=\"altair-viz-a3c229c6ee33460bad3c786206c6dfed\"></div>\n",
       "<script type=\"text/javascript\">\n",
       "  (function(spec, embedOpt){\n",
       "    let outputDiv = document.currentScript.previousElementSibling;\n",
       "    if (outputDiv.id !== \"altair-viz-a3c229c6ee33460bad3c786206c6dfed\") {\n",
       "      outputDiv = document.getElementById(\"altair-viz-a3c229c6ee33460bad3c786206c6dfed\");\n",
       "    }\n",
       "    const paths = {\n",
       "      \"vega\": \"https://cdn.jsdelivr.net/npm//vega@5?noext\",\n",
       "      \"vega-lib\": \"https://cdn.jsdelivr.net/npm//vega-lib?noext\",\n",
       "      \"vega-lite\": \"https://cdn.jsdelivr.net/npm//vega-lite@4.8.1?noext\",\n",
       "      \"vega-embed\": \"https://cdn.jsdelivr.net/npm//vega-embed@6?noext\",\n",
       "    };\n",
       "\n",
       "    function loadScript(lib) {\n",
       "      return new Promise(function(resolve, reject) {\n",
       "        var s = document.createElement('script');\n",
       "        s.src = paths[lib];\n",
       "        s.async = true;\n",
       "        s.onload = () => resolve(paths[lib]);\n",
       "        s.onerror = () => reject(`Error loading script: ${paths[lib]}`);\n",
       "        document.getElementsByTagName(\"head\")[0].appendChild(s);\n",
       "      });\n",
       "    }\n",
       "\n",
       "    function showError(err) {\n",
       "      outputDiv.innerHTML = `<div class=\"error\" style=\"color:red;\">${err}</div>`;\n",
       "      throw err;\n",
       "    }\n",
       "\n",
       "    function displayChart(vegaEmbed) {\n",
       "      vegaEmbed(outputDiv, spec, embedOpt)\n",
       "        .catch(err => showError(`Javascript Error: ${err.message}<br>This usually means there's a typo in your chart specification. See the javascript console for the full traceback.`));\n",
       "    }\n",
       "\n",
       "    if(typeof define === \"function\" && define.amd) {\n",
       "      requirejs.config({paths});\n",
       "      require([\"vega-embed\"], displayChart, err => showError(`Error loading script: ${err.message}`));\n",
       "    } else if (typeof vegaEmbed === \"function\") {\n",
       "      displayChart(vegaEmbed);\n",
       "    } else {\n",
       "      loadScript(\"vega\")\n",
       "        .then(() => loadScript(\"vega-lite\"))\n",
       "        .then(() => loadScript(\"vega-embed\"))\n",
       "        .catch(showError)\n",
       "        .then(() => displayChart(vegaEmbed));\n",
       "    }\n",
       "  })({\"config\": {\"view\": {\"continuousWidth\": 400, \"continuousHeight\": 300, \"strokeWidth\": 0}}, \"data\": {\"name\": \"data-8a84f64615052f6df6ee6d39049a2f7c\"}, \"facet\": {\"type\": \"ordinal\", \"field\": \"year\"}, \"spec\": {\"mark\": \"bar\", \"encoding\": {\"x\": {\"type\": \"nominal\", \"field\": \"CharacteristicID\"}, \"y\": {\"type\": \"quantitative\", \"field\": \"Result\"}}, \"height\": 100, \"width\": 100}, \"columns\": 5, \"resolve\": {\"scale\": {\"x\": \"independent\", \"y\": \"independent\"}}, \"$schema\": \"https://vega.github.io/schema/vega-lite/v4.8.1.json\", \"datasets\": {\"data-8a84f64615052f6df6ee6d39049a2f7c\": [{\"year\": 2021, \"CharacteristicID\": \"Cond\", \"Result\": 495}, {\"year\": 2021, \"CharacteristicID\": \"DO\", \"Result\": 495}, {\"year\": 2021, \"CharacteristicID\": \"DO%\", \"Result\": 495}, {\"year\": 2020, \"CharacteristicID\": \"Secchi\", \"Result\": 729}, {\"year\": 2020, \"CharacteristicID\": \"TP\", \"Result\": 547}, {\"year\": 2020, \"CharacteristicID\": \"Cond\", \"Result\": 530}, {\"year\": 2019, \"CharacteristicID\": \"Cond\", \"Result\": 1787}, {\"year\": 2019, \"CharacteristicID\": \"TempC\", \"Result\": 1734}, {\"year\": 2019, \"CharacteristicID\": \"DO\", \"Result\": 1416}, {\"year\": 2018, \"CharacteristicID\": \"Cond\", \"Result\": 2236}, {\"year\": 2018, \"CharacteristicID\": \"TempC\", \"Result\": 2185}, {\"year\": 2018, \"CharacteristicID\": \"DO\", \"Result\": 1880}, {\"year\": 2017, \"CharacteristicID\": \"Cond\", \"Result\": 1833}, {\"year\": 2017, \"CharacteristicID\": \"TempC\", \"Result\": 1768}, {\"year\": 2017, \"CharacteristicID\": \"pH\", \"Result\": 1577}, {\"year\": 2016, \"CharacteristicID\": \"Chla\", \"Result\": 1083}, {\"year\": 2016, \"CharacteristicID\": \"TP\", \"Result\": 859}, {\"year\": 2016, \"CharacteristicID\": \"pH\", \"Result\": 847}, {\"year\": 2015, \"CharacteristicID\": \"Chla\", \"Result\": 1027}, {\"year\": 2015, \"CharacteristicID\": \"TP\", \"Result\": 820}, {\"year\": 2015, \"CharacteristicID\": \"Secchi\", \"Result\": 716}, {\"year\": 2014, \"CharacteristicID\": \"Chla\", \"Result\": 1064}, {\"year\": 2014, \"CharacteristicID\": \"TP\", \"Result\": 804}, {\"year\": 2014, \"CharacteristicID\": \"Cond\", \"Result\": 734}, {\"year\": 2013, \"CharacteristicID\": \"Chla\", \"Result\": 1011}, {\"year\": 2013, \"CharacteristicID\": \"Cond\", \"Result\": 859}, {\"year\": 2013, \"CharacteristicID\": \"TempC\", \"Result\": 813}, {\"year\": 2012, \"CharacteristicID\": \"Chla\", \"Result\": 1167}, {\"year\": 2012, \"CharacteristicID\": \"Cond\", \"Result\": 1012}, {\"year\": 2012, \"CharacteristicID\": \"TempC\", \"Result\": 979}, {\"year\": 2011, \"CharacteristicID\": \"TempC\", \"Result\": 1147}, {\"year\": 2011, \"CharacteristicID\": \"DO\", \"Result\": 1118}, {\"year\": 2011, \"CharacteristicID\": \"Cond\", \"Result\": 1105}, {\"year\": 2010, \"CharacteristicID\": \"Chla\", \"Result\": 1074}, {\"year\": 2010, \"CharacteristicID\": \"TP\", \"Result\": 891}, {\"year\": 2010, \"CharacteristicID\": \"Cond\", \"Result\": 809}, {\"year\": 2009, \"CharacteristicID\": \"Chla\", \"Result\": 997}, {\"year\": 2009, \"CharacteristicID\": \"Cond\", \"Result\": 832}, {\"year\": 2009, \"CharacteristicID\": \"TempC\", \"Result\": 829}, {\"year\": 2008, \"CharacteristicID\": \"TempC\", \"Result\": 1288}, {\"year\": 2008, \"CharacteristicID\": \"Cond\", \"Result\": 1248}, {\"year\": 2008, \"CharacteristicID\": \"DO%\", \"Result\": 1218}, {\"year\": 2007, \"CharacteristicID\": \"pH\", \"Result\": 1361}, {\"year\": 2007, \"CharacteristicID\": \"Cond\", \"Result\": 1308}, {\"year\": 2007, \"CharacteristicID\": \"TempC\", \"Result\": 1308}, {\"year\": 2006, \"CharacteristicID\": \"pH\", \"Result\": 1327}, {\"year\": 2006, \"CharacteristicID\": \"Cond\", \"Result\": 1272}, {\"year\": 2006, \"CharacteristicID\": \"TempC\", \"Result\": 1269}, {\"year\": 2005, \"CharacteristicID\": \"pH\", \"Result\": 1164}, {\"year\": 2005, \"CharacteristicID\": \"Cond\", \"Result\": 1115}, {\"year\": 2005, \"CharacteristicID\": \"DO%\", \"Result\": 1065}, {\"year\": 2004, \"CharacteristicID\": \"pH\", \"Result\": 943}, {\"year\": 2004, \"CharacteristicID\": \"TempC\", \"Result\": 887}, {\"year\": 2004, \"CharacteristicID\": \"Cond\", \"Result\": 846}, {\"year\": 2003, \"CharacteristicID\": \"Chla\", \"Result\": 730}, {\"year\": 2003, \"CharacteristicID\": \"Secchi\", \"Result\": 631}, {\"year\": 2003, \"CharacteristicID\": \"Cond\", \"Result\": 601}, {\"year\": 2002, \"CharacteristicID\": \"Chla\", \"Result\": 787}, {\"year\": 2002, \"CharacteristicID\": \"Secchi\", \"Result\": 661}, {\"year\": 2002, \"CharacteristicID\": \"TP\", \"Result\": 603}, {\"year\": 2001, \"CharacteristicID\": \"Cond\", \"Result\": 902}, {\"year\": 2001, \"CharacteristicID\": \"TempC\", \"Result\": 897}, {\"year\": 2001, \"CharacteristicID\": \"DO\", \"Result\": 835}, {\"year\": 2000, \"CharacteristicID\": \"pH\", \"Result\": 862}, {\"year\": 2000, \"CharacteristicID\": \"Cond\", \"Result\": 826}, {\"year\": 2000, \"CharacteristicID\": \"TempC\", \"Result\": 825}, {\"year\": 1999, \"CharacteristicID\": \"pH\", \"Result\": 908}, {\"year\": 1999, \"CharacteristicID\": \"TempC\", \"Result\": 865}, {\"year\": 1999, \"CharacteristicID\": \"Cond\", \"Result\": 860}, {\"year\": 1998, \"CharacteristicID\": \"pH\", \"Result\": 1039}, {\"year\": 1998, \"CharacteristicID\": \"TempC\", \"Result\": 992}, {\"year\": 1998, \"CharacteristicID\": \"Cond\", \"Result\": 987}, {\"year\": 1997, \"CharacteristicID\": \"Secchi\", \"Result\": 564}, {\"year\": 1997, \"CharacteristicID\": \"Chla\", \"Result\": 526}, {\"year\": 1997, \"CharacteristicID\": \"TP\", \"Result\": 352}, {\"year\": 1996, \"CharacteristicID\": \"Secchi\", \"Result\": 537}, {\"year\": 1996, \"CharacteristicID\": \"Chla\", \"Result\": 461}, {\"year\": 1996, \"CharacteristicID\": \"TP\", \"Result\": 329}, {\"year\": 1995, \"CharacteristicID\": \"Secchi\", \"Result\": 563}, {\"year\": 1995, \"CharacteristicID\": \"Chla\", \"Result\": 541}, {\"year\": 1995, \"CharacteristicID\": \"TP\", \"Result\": 392}, {\"year\": 1994, \"CharacteristicID\": \"Secchi\", \"Result\": 595}, {\"year\": 1994, \"CharacteristicID\": \"TP\", \"Result\": 531}, {\"year\": 1994, \"CharacteristicID\": \"Chla\", \"Result\": 475}, {\"year\": 1993, \"CharacteristicID\": \"Secchi\", \"Result\": 570}, {\"year\": 1993, \"CharacteristicID\": \"Chla\", \"Result\": 445}, {\"year\": 1993, \"CharacteristicID\": \"TP\", \"Result\": 241}, {\"year\": 1992, \"CharacteristicID\": \"Secchi\", \"Result\": 552}, {\"year\": 1992, \"CharacteristicID\": \"Chla\", \"Result\": 292}, {\"year\": 1992, \"CharacteristicID\": \"TempC\", \"Result\": 283}, {\"year\": 1991, \"CharacteristicID\": \"Secchi\", \"Result\": 590}, {\"year\": 1991, \"CharacteristicID\": \"Chla\", \"Result\": 546}, {\"year\": 1991, \"CharacteristicID\": \"TP\", \"Result\": 312}, {\"year\": 1990, \"CharacteristicID\": \"Secchi\", \"Result\": 511}, {\"year\": 1990, \"CharacteristicID\": \"Chla\", \"Result\": 492}, {\"year\": 1990, \"CharacteristicID\": \"TP\", \"Result\": 266}, {\"year\": 1989, \"CharacteristicID\": \"Secchi\", \"Result\": 509}, {\"year\": 1989, \"CharacteristicID\": \"Chla\", \"Result\": 401}, {\"year\": 1989, \"CharacteristicID\": \"pH\", \"Result\": 355}, {\"year\": 1988, \"CharacteristicID\": \"Chla\", \"Result\": 529}, {\"year\": 1988, \"CharacteristicID\": \"Secchi\", \"Result\": 484}, {\"year\": 1988, \"CharacteristicID\": \"pH\", \"Result\": 264}, {\"year\": 1987, \"CharacteristicID\": \"Chla\", \"Result\": 661}, {\"year\": 1987, \"CharacteristicID\": \"Secchi\", \"Result\": 594}, {\"year\": 1987, \"CharacteristicID\": \"pH\", \"Result\": 255}, {\"year\": 1986, \"CharacteristicID\": \"Chla\", \"Result\": 774}, {\"year\": 1986, \"CharacteristicID\": \"Secchi\", \"Result\": 646}, {\"year\": 1986, \"CharacteristicID\": \"pH\", \"Result\": 251}, {\"year\": 1985, \"CharacteristicID\": \"Chla\", \"Result\": 777}, {\"year\": 1985, \"CharacteristicID\": \"Secchi\", \"Result\": 601}, {\"year\": 1985, \"CharacteristicID\": \"TP\", \"Result\": 233}, {\"year\": 1984, \"CharacteristicID\": \"Chla\", \"Result\": 833}, {\"year\": 1984, \"CharacteristicID\": \"Secchi\", \"Result\": 630}, {\"year\": 1984, \"CharacteristicID\": \"TP\", \"Result\": 312}, {\"year\": 1983, \"CharacteristicID\": \"Chla\", \"Result\": 779}, {\"year\": 1983, \"CharacteristicID\": \"Secchi\", \"Result\": 614}, {\"year\": 1983, \"CharacteristicID\": \"TP\", \"Result\": 252}, {\"year\": 1982, \"CharacteristicID\": \"Chla\", \"Result\": 703}, {\"year\": 1982, \"CharacteristicID\": \"Secchi\", \"Result\": 523}, {\"year\": 1982, \"CharacteristicID\": \"TP\", \"Result\": 235}, {\"year\": 1981, \"CharacteristicID\": \"Chla\", \"Result\": 679}, {\"year\": 1981, \"CharacteristicID\": \"Secchi\", \"Result\": 403}, {\"year\": 1981, \"CharacteristicID\": \"pH\", \"Result\": 172}, {\"year\": 1980, \"CharacteristicID\": \"Secchi\", \"Result\": 485}, {\"year\": 1980, \"CharacteristicID\": \"Chla\", \"Result\": 332}, {\"year\": 1980, \"CharacteristicID\": \"pH\", \"Result\": 150}]}}, {\"mode\": \"vega-lite\"});\n",
       "</script>"
      ],
      "text/plain": [
       "alt.FacetChart(...)"
      ]
     },
     "execution_count": 66,
     "metadata": {},
     "output_type": "execute_result"
    }
   ],
   "source": [
    "alt.Chart(most).mark_bar().encode(\n",
    "    x='CharacteristicID',\n",
    "    y='Result:Q').properties(width=100,\n",
    "    height=100\n",
    ").facet('year:O', columns=5).resolve_scale(x='independent', y='independent').configure_view(strokeWidth=0\n",
    ")"
   ]
  },
  {
   "cell_type": "code",
   "execution_count": null,
   "id": "7b70c27f",
   "metadata": {},
   "outputs": [],
   "source": []
  }
 ],
 "metadata": {
  "kernelspec": {
   "display_name": "Python 3 (ipykernel)",
   "language": "python",
   "name": "python3"
  },
  "language_info": {
   "codemirror_mode": {
    "name": "ipython",
    "version": 3
   },
   "file_extension": ".py",
   "mimetype": "text/x-python",
   "name": "python",
   "nbconvert_exporter": "python",
   "pygments_lexer": "ipython3",
   "version": "3.8.10"
  }
 },
 "nbformat": 4,
 "nbformat_minor": 5
}
