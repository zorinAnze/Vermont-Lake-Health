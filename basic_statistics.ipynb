{
 "cells": [
  {
   "cell_type": "markdown",
   "metadata": {},
   "source": [
    "## Vermont lake monitoring Program overview"
   ]
  },
  {
   "cell_type": "code",
   "execution_count": 1,
   "metadata": {},
   "outputs": [
    {
     "data": {
      "text/plain": [
       "DataTransformerRegistry.enable('default')"
      ]
     },
     "execution_count": 1,
     "metadata": {},
     "output_type": "execute_result"
    }
   ],
   "source": [
    "%load_ext watermark\n",
    "\n",
    "import numpy as np\n",
    "import pandas as pd\n",
    "\n",
    "import altair as alt\n",
    "from IPython.display import Markdown as md\n",
    "\n",
    "\n",
    "alt.data_transformers.disable_max_rows()"
   ]
  },
  {
   "cell_type": "code",
   "execution_count": 2,
   "metadata": {},
   "outputs": [
    {
     "name": "stdout",
     "output_type": "stream",
     "text": [
      "Author: ZORIN_ANŽE\n",
      "\n",
      "geopandas: 0.10.2\n",
      "pandas   : 1.3.5\n",
      "numpy    : 1.21.5\n",
      "plotly   : 5.5.0\n",
      "pyproj   : 3.3.0\n",
      "\n"
     ]
    }
   ],
   "source": [
    "%watermark -p geopandas,pandas,numpy,plotly,pyproj -a ZORIN_ANŽE -d"
   ]
  },
  {
   "cell_type": "markdown",
   "metadata": {},
   "source": [
    "We first want to explore the statisctics of measurments. Since this is a lay monitoring programm dependant on good will of the participants we expect a wide range of measurments dependant on lake, year, season etc.."
   ]
  },
  {
   "cell_type": "code",
   "execution_count": 3,
   "metadata": {},
   "outputs": [],
   "source": [
    "# loading and transformation of chemical data dataset.\n",
    "\n",
    "def get_data():\n",
    "    chem_data = pd.read_csv(r'assets/ChemDataForJeffOlson.csv', parse_dates=['VisitDate'])\n",
    "    chem_data['year'] = chem_data.VisitDate.dt.year\n",
    "\n",
    "    seasons = {\n",
    "        '0':'winter',\n",
    "        '1':'spring',\n",
    "        '2':'summer',\n",
    "        '3':'fall'\n",
    "    }\n",
    "    # We add 'year' and 'season' columns for easier representation of data and counting of measurments.\n",
    "    chem_data['season'] =  (chem_data.VisitDate.dt.month - 1) //3\n",
    "    chem_data['season'] = chem_data.season.apply(lambda x: seasons[str(x)])\n",
    "    chem_data['date'] = chem_data['VisitDate'].apply(lambda x:x.strftime(\"%Y-%m-01\"))\n",
    "    \n",
    "    return chem_data"
   ]
  },
  {
   "cell_type": "code",
   "execution_count": 4,
   "metadata": {},
   "outputs": [],
   "source": [
    "chem_data = get_data()"
   ]
  },
  {
   "cell_type": "code",
   "execution_count": 5,
   "metadata": {},
   "outputs": [
    {
     "data": {
      "text/markdown": [
       "There are 445 lakes included in the Lay monitoring program.    Number of lakes actualy measured in any given year is quite smaller.    On average 121 are tested each year, measuring 81 different characteristics."
      ],
      "text/plain": [
       "<IPython.core.display.Markdown object>"
      ]
     },
     "execution_count": 5,
     "metadata": {},
     "output_type": "execute_result"
    }
   ],
   "source": [
    "mean_lakes = int(np.mean(chem_data.groupby('year')['LakeID'].nunique().values))\n",
    "num_charascteristics = len(list(chem_data.CharacteristicID.unique()))\n",
    "num_lakes = len(chem_data.LakeID.unique())\n",
    "\n",
    "md(\"There are {} lakes included in the Lay monitoring program.\\\n",
    "    Number of lakes actualy measured in any given year is quite smaller.\\\n",
    "    On average {} are tested each year, measuring {} different characteristics.\".format(num_lakes, mean_lakes, num_charascteristics))"
   ]
  },
  {
   "cell_type": "markdown",
   "metadata": {},
   "source": [
    "The plot bellow shows the number of diferent lakes included in the programm for each yesr."
   ]
  },
  {
   "cell_type": "code",
   "execution_count": null,
   "metadata": {},
   "outputs": [],
   "source": [
    "bar = alt.Chart(chem_data).mark_bar(strokeWidth=0.5).encode(\n",
    "        x=alt.X('year:O'),\n",
    "        y=alt.Y(\n",
    "            'distinct(LakeID)',\n",
    "            axis=None)\n",
    ").properties(width=600, height=200)\n",
    "\n",
    "txt = bar.mark_text(\n",
    "            align='center',\n",
    "            baseline='top',\n",
    "            fontSize=8, \n",
    "            dy=-10\n",
    "        ).encode(\n",
    "            text='distinct(LakeID)')\n",
    "\n",
    "alt.layer(bar+txt).configure_view(strokeWidth=0)"
   ]
  },
  {
   "cell_type": "code",
   "execution_count": null,
   "metadata": {},
   "outputs": [],
   "source": [
    "# The mnajorit of records are measured in spring in summer\n",
    "alt.Chart(chem_data).mark_bar().encode(\n",
    "    x=alt.X('season:N'),\n",
    "    y=alt.Y('count(Result):Q')\n",
    ").properties(title='seasonal distribution of measurments',\n",
    "            width=300,\n",
    "            height=200)"
   ]
  },
  {
   "cell_type": "markdown",
   "metadata": {},
   "source": [
    "Let us count the number of measurments for any given parameter across all years."
   ]
  },
  {
   "cell_type": "code",
   "execution_count": null,
   "metadata": {},
   "outputs": [],
   "source": [
    "counts_all = chem_data.groupby(['CharacteristicID'])['Result'].count()\n",
    "counts_all.sort_values()"
   ]
  },
  {
   "cell_type": "markdown",
   "metadata": {},
   "source": [
    "What are the CharacteristicID that have the low number of measurments. Lets look at those with < 100 mesurments."
   ]
  },
  {
   "cell_type": "markdown",
   "metadata": {},
   "source": [
    "counts_all[counts_all.values <= 100].index"
   ]
  },
  {
   "cell_type": "markdown",
   "metadata": {},
   "source": [
    "It looks like those are the heavy elemnts which are not easily tested by lay people and Ecoli, NPOC and SechiViewTube. Lets throw out those measurments."
   ]
  },
  {
   "cell_type": "code",
   "execution_count": null,
   "metadata": {},
   "outputs": [],
   "source": [
    "# set treshold for number of measurments\n",
    "TRESHOLD = 100\n",
    "\n",
    "def get_frequent(df, TRESHOLD):\n",
    "    counts = df.groupby(['CharacteristicID'])['Result'].count()\n",
    "    mask = counts[counts.values <= TRESHOLD].index\n",
    "    df = df.where(~df.isin(mask))\n",
    "    return df\n",
    "              \n",
    "#data = get_frequent(chem_data, TRESHOLD)\n",
    "data=chem_data"
   ]
  },
  {
   "cell_type": "markdown",
   "metadata": {},
   "source": [
    "Next we are interested in distribution of measurments across lakes. Which lakes are the most intensly monitored and which are the least monitored. Let us look at the count of records for all"
   ]
  },
  {
   "cell_type": "code",
   "execution_count": null,
   "metadata": {},
   "outputs": [],
   "source": [
    "line = alt.Chart(data).mark_line(strokeWidth=0.5, color='black').encode(\n",
    "        x=alt.X('year:O', axis=alt.Axis(title=None)),\n",
    "        y=alt.Y('count()', axis=alt.Axis(title=None, grid=False)),\n",
    "        ).properties(width=600, height=100)\n",
    "\n",
    "bar = alt.Chart(data).mark_bar(strokeWidth=0.5).encode(\n",
    "        x=alt.X('year:O', axis=None),\n",
    "        y=alt.Y('count()', axis=alt.Axis(title=None, grid=False)),\n",
    "        color=alt.Color('LakeID:N', legend=None),\n",
    "        tooltip=alt.Tooltip(['LakeID', 'count()']),\n",
    "        order=alt.Order(\n",
    "            'count()',\n",
    "            sort='ascending')\n",
    "        ).interactive().properties(width=600, height=200)\n",
    "\n",
    "text = line.mark_text(\n",
    "            align='center',\n",
    "            baseline='top',\n",
    "            fontSize=8, \n",
    "            dy=-10\n",
    "        ).encode(\n",
    "            text='distinct(LakeID)')\n",
    "\n",
    "bars = alt.layer(bar,text)\n",
    "\n",
    "alt.vconcat(bars, line).configure_view(\n",
    "    strokeWidth=0\n",
    ")"
   ]
  },
  {
   "cell_type": "code",
   "execution_count": null,
   "metadata": {},
   "outputs": [],
   "source": [
    "# top five most measured lakes by year\n",
    "df = chem_data.groupby(['LakeID', 'year'])['CharacteristicID'].count()\n",
    "df = df.reset_index()\n",
    "df = df.sort_values(by=['year', 'CharacteristicID'], ascending=False).groupby('year')\n",
    "\n",
    "top = df.head(5)\n",
    "bottom = df.tail(5)"
   ]
  },
  {
   "cell_type": "code",
   "execution_count": null,
   "metadata": {},
   "outputs": [],
   "source": [
    "# top 5 most measured lakes by year\n",
    "alt.Chart(top).mark_bar().encode(\n",
    "    x=alt.X('LakeID:N', sort='-y', title=None),\n",
    "    y=alt.Y('CharacteristicID:Q', title=None, axis=alt.Axis(grid=False))\n",
    ").properties(width=100,\n",
    "    height=100\n",
    ").facet('year:O', columns=5).resolve_scale(x='independent', y='independent').configure_view(strokeWidth=0\n",
    ")\n"
   ]
  },
  {
   "cell_type": "code",
   "execution_count": null,
   "metadata": {},
   "outputs": [],
   "source": [
    "# bottom 5 least measured lakes by year\n",
    "alt.Chart(bottom).mark_bar().encode(\n",
    "    x=alt.X('LakeID:N', sort='-y', title=None),\n",
    "    y=alt.Y('CharacteristicID:Q', title=None, axis=alt.Axis(grid=False))\n",
    ").properties(width=100,\n",
    "    height=100\n",
    ").facet('year:O', columns=5).resolve_scale(x='independent', y='independent').configure_view(strokeWidth=0\n",
    ")\n"
   ]
  },
  {
   "cell_type": "code",
   "execution_count": null,
   "metadata": {},
   "outputs": [],
   "source": [
    "# What is the distribution of measurments. Which parameters are most measured.\n",
    "most = chem_data.groupby(['year','CharacteristicID'])['Result'].count()\n",
    "most = most.reset_index()\n",
    "most = most.sort_values(by=['year', 'Result'], ascending=False).groupby('year').head(3)\n",
    "most"
   ]
  },
  {
   "cell_type": "code",
   "execution_count": null,
   "metadata": {},
   "outputs": [],
   "source": [
    "alt.Chart(most).mark_bar().encode(\n",
    "    x='CharacteristicID',\n",
    "    y='Result:Q').properties(width=100,\n",
    "    height=100\n",
    ").facet('year:O', columns=5).resolve_scale(x='independent', y='independent').configure_view(strokeWidth=0\n",
    ")"
   ]
  }
 ],
 "metadata": {
  "interpreter": {
   "hash": "6b714ff575e23fcb6cddd47c78b07ccf51096269fc18c32c4092f97dc3283319"
  },
  "kernelspec": {
   "display_name": "Python 3.8.10 64-bit ('vermont': venv)",
   "language": "python",
   "name": "python3"
  },
  "language_info": {
   "codemirror_mode": {
    "name": "ipython",
    "version": 3
   },
   "file_extension": ".py",
   "mimetype": "text/x-python",
   "name": "python",
   "nbconvert_exporter": "python",
   "pygments_lexer": "ipython3",
   "version": "3.8.10"
  },
  "orig_nbformat": 4
 },
 "nbformat": 4,
 "nbformat_minor": 2
}
